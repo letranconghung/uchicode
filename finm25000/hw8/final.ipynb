{
 "cells": [
  {
   "cell_type": "code",
   "execution_count": 20,
   "metadata": {},
   "outputs": [
    {
     "name": "stderr",
     "output_type": "stream",
     "text": [
      "[*********************100%%**********************]  2 of 2 completed\n"
     ]
    },
    {
     "data": {
      "text/plain": [
       "0.853762133980263"
      ]
     },
     "execution_count": 20,
     "metadata": {},
     "output_type": "execute_result"
    }
   ],
   "source": [
    "import yfinance as yf\n",
    "import numpy as np\n",
    "import pandas as pd\n",
    "start_date = '2020-01-01'\n",
    "end_date = '2023-01-01'\n",
    "symbols = ['AAPL', 'MSFT']\n",
    "\n",
    "data = yf.download(symbols, start=start_date, end=end_date)['Adj Close']\n",
    "\n",
    "# Step 4: Calculate Daily Returns\n",
    "returns = data.pct_change()\n",
    "\n",
    "# Step 6: Calculate Rolling Correlation\n",
    "returns['corr'] = returns['AAPL'].rolling(window=30).corr(returns['MSFT'])\n",
    "\n",
    "# Step 7: Plot the Rolling Correlation\n",
    "# returns['co'].plot(title='Rolling 30-day Correlation')\n",
    "\n",
    "# Step 8: Calculate Z-Score\n",
    "returns['spread'] = returns['AAPL'] - returns['MSFT']\n",
    "returns['mean'] = returns['spread'].rolling(window=30).mean()\n",
    "returns['std'] = returns['spread'].rolling(window=30).std()\n",
    "returns['z_score'] = (returns['spread'] - returns['mean']) / returns['std']\n",
    "\n",
    "returns['z_score'].loc['2022-01-03']\n",
    "\n",
    "returns['position'] = np.where(returns['z_score'] < -2, 1, np.where(returns['z_score'] > 2, -1, 0))\n",
    "returns['position'].loc['2022-06-01']\n",
    "\n",
    "returns['corr'].loc['2022-06-02']"
   ]
  },
  {
   "cell_type": "code",
   "execution_count": 25,
   "metadata": {},
   "outputs": [
    {
     "data": {
      "text/plain": [
       "0.0"
      ]
     },
     "execution_count": 25,
     "metadata": {},
     "output_type": "execute_result"
    }
   ],
   "source": [
    "returns.head()\n",
    "returns['strategy return'] = returns['position'].shift() * (returns['AAPL'] - returns['MSFT'])\n",
    "returns['cumulative return'] = (1 + returns['strategy return']).cumprod()\n",
    "returns['strategy return'].loc['2022-06-02']"
   ]
  },
  {
   "cell_type": "code",
   "execution_count": 26,
   "metadata": {},
   "outputs": [
    {
     "data": {
      "text/plain": [
       "1.094026589454"
      ]
     },
     "execution_count": 26,
     "metadata": {},
     "output_type": "execute_result"
    }
   ],
   "source": [
    "returns['cumulative return'].loc['2022-01-03']"
   ]
  },
  {
   "cell_type": "code",
   "execution_count": null,
   "metadata": {},
   "outputs": [],
   "source": []
  }
 ],
 "metadata": {
  "kernelspec": {
   "display_name": "Python 3",
   "language": "python",
   "name": "python3"
  },
  "language_info": {
   "codemirror_mode": {
    "name": "ipython",
    "version": 3
   },
   "file_extension": ".py",
   "mimetype": "text/x-python",
   "name": "python",
   "nbconvert_exporter": "python",
   "pygments_lexer": "ipython3",
   "version": "3.8.18"
  }
 },
 "nbformat": 4,
 "nbformat_minor": 2
}
