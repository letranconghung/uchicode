{
 "cells": [
  {
   "cell_type": "markdown",
   "id": "29b2f936",
   "metadata": {},
   "source": [
    "# Midterm - Hung Le\n",
    "\n",
    "## FINM 25000 - 2024\n",
    "\n",
    "### UChicago Financial Mathematics\n",
    "\n",
    "* Mark Hendricks\n",
    "* hendricks@uchicago.edu"
   ]
  },
  {
   "cell_type": "markdown",
   "id": "af28e7fd",
   "metadata": {},
   "source": [
    "# Instructions"
   ]
  },
  {
   "cell_type": "markdown",
   "id": "a4dd63ff",
   "metadata": {},
   "source": [
    "## Please note the following:\n",
    "\n",
    "Points\n",
    "* The exam is `115` points.\n",
    "* You have `180` minutes to complete the exam.\n",
    "* For every minute late you submit the exam, you will lose one point.\n",
    "\n",
    "Submission\n",
    "* You will upload your solution to the `Midterm` assignment on Canvas. (Be sure to **submit** on Canvas, not just **save** on Canvas.\n",
    "* Your submission should be readable, (the graders can understand your answers,) and it should **include all code used in your analysis in a file format that the code can be executed.** \n",
    "\n",
    "Rules\n",
    "* The exam is open-material, closed-communication.\n",
    "* You do not need to cite material from the course github repo--you are welcome to use the code posted there without citation.\n",
    "\n",
    "Advice\n",
    "* If you find any question to be unclear, state your interpretation and proceed. We will only answer questions of interpretation if there is a typo, error, etc.\n",
    "* The exam will be graded for partial credit."
   ]
  },
  {
   "cell_type": "markdown",
   "id": "1960a3c5",
   "metadata": {},
   "source": [
    "## Data\n",
    "\n",
    "**All data files are found in the class github repo, in the `data` folder.**\n",
    "\n",
    "This exam makes use of the following data files:\n",
    "* `midterm_data.xlsx`\n",
    "\n",
    "This file has sheets for...\n",
    "* `info` - names of each stock ticker\n",
    "* `excess returns` - weekly excess returns on several stocks\n",
    "* `SPY` - weekly excess returns on SPY\n",
    "* `forecasting` - monthly data on `USO` asset returns and two forecasting signals.\n",
    "\n",
    "Note \n",
    "* the data for `excess returns` and `SPY` is **weekly** so any annualizations should use `52` weeks in a year.\n",
    "* the data for `forecasting` is monthly, so any annualization should use `12` months in a year."
   ]
  },
  {
   "cell_type": "markdown",
   "id": "336f6568",
   "metadata": {},
   "source": [
    "#### If useful\n",
    "here is code to load in the data."
   ]
  },
  {
   "cell_type": "code",
   "execution_count": 1,
   "id": "0015b7a4",
   "metadata": {},
   "outputs": [],
   "source": [
    "import numpy as np\n",
    "import pandas as pd\n",
    "import seaborn as sns\n",
    "import matplotlib.pyplot as plt\n",
    "from sklearn.linear_model import LinearRegression\n",
    "import statsmodels as sm\n",
    "from functools import partial\n",
    "sns.set_style('darkgrid')\n",
    "plt.rcParams['figure.figsize'] = (12, 9)\n",
    "pd.options.display.float_format = '{:.4f}'.format"
   ]
  },
  {
   "cell_type": "code",
   "execution_count": 2,
   "id": "344abdac",
   "metadata": {},
   "outputs": [],
   "source": [
    "FILEIN = 'midterm_data.xlsx'\n",
    "sheet_exrets = 'excess returns'\n",
    "sheet_spy = 'spy'\n",
    "sheet_forecasting = 'forecasting'\n",
    "\n",
    "retsx = pd.read_excel(FILEIN, sheet_name=sheet_exrets).set_index('date')\n",
    "spy = pd.read_excel(FILEIN, sheet_name=sheet_spy).set_index('date')\n",
    "forecasting = pd.read_excel(FILEIN, sheet_name=sheet_forecasting).set_index('date')"
   ]
  },
  {
   "cell_type": "markdown",
   "id": "d0af33e1",
   "metadata": {},
   "source": [
    "## Scoring\n",
    "\n",
    "| Problem | Points |\n",
    "|---------|--------|\n",
    "| 1       | 50     |\n",
    "| 2       | 25     |\n",
    "| 3       | 20     |\n",
    "| 4       | 20     |"
   ]
  },
  {
   "cell_type": "markdown",
   "id": "c158c236",
   "metadata": {},
   "source": [
    "### Each numbered question is worth 5 points."
   ]
  },
  {
   "cell_type": "markdown",
   "id": "362090a7",
   "metadata": {},
   "source": [
    "### Notation\n",
    "(Hidden LaTeX commands)\n",
    "\n",
    "$$\\newcommand{\\mux}{\\tilde{\\boldsymbol{\\mu}}}$$\n",
    "$$\\newcommand{\\wtan}{\\boldsymbol{\\text{w}}^{\\text{tan}}}$$\n",
    "$$\\newcommand{\\wtarg}{\\boldsymbol{\\text{w}}^{\\text{port}}}$$\n",
    "$$\\newcommand{\\mutarg}{\\tilde{\\boldsymbol{\\mu}}^{\\text{port}}}$$\n",
    "$$\\newcommand{\\wEW}{\\boldsymbol{\\text{w}}^{\\text{EW}}}$$\n",
    "$$\\newcommand{\\wRP}{\\boldsymbol{\\text{w}}^{\\text{RP}}}$$\n",
    "$$\\newcommand{\\wREG}{\\boldsymbol{\\text{w}}^{\\text{REG}}}$$\n",
    "$$\\newcommand{\\targ}{\\text{USO}}$$"
   ]
  },
  {
   "cell_type": "markdown",
   "id": "40926a81",
   "metadata": {},
   "source": [
    "# 1. Short Answer"
   ]
  },
  {
   "cell_type": "markdown",
   "id": "d29c0d60",
   "metadata": {},
   "source": [
    "### No Data Needed\n",
    "\n",
    "These problem does not require any data file. Rather, analyze the situation conceptually, based on the information below. "
   ]
  },
  {
   "cell_type": "markdown",
   "id": "d086f971",
   "metadata": {},
   "source": [
    "### 1\n",
    "\n",
    "In what sense was ProShares `HDG` successful in hedging the `HFRI`, and in what sense was it unsuccessful in tracking the `HFRI`?"
   ]
  },
  {
   "cell_type": "markdown",
   "id": "b965d7ee",
   "metadata": {},
   "source": [
    "It was successful in hedging because of a positive alpha, and relatively ok information ratio, which is essentially the Sharpe of the hedged position. It was unsuccessful in tracking the `HFRI`, because of the relatively high tracking error, which is standard deviation of $\\epsilon_t$, and that there remains an outstanding $\\alpha$."
   ]
  },
  {
   "cell_type": "markdown",
   "id": "ea8b7e68",
   "metadata": {},
   "source": [
    "### 2\n",
    "\n",
    "Did we find that **TIPS** have been useful in expanding the mean-variance frontier in the past? Did we conclude they might be useful in the future? Explain."
   ]
  },
  {
   "cell_type": "markdown",
   "id": "122f9d30",
   "metadata": {},
   "source": [
    "We found that TIPS has not been so useful in expanding the MV frontier in the past, with high correlations with IEF and BWX, and the target portfolio with no TIPS performing with roughly the same vol (hence same Sharpe) as the target portfolio with TIPS. This might change in the future, though, because past performances are not necessarily indicative of future performances and thus the high correlations might decrease, enabling TIPS to expand the MV frontier."
   ]
  },
  {
   "cell_type": "markdown",
   "id": "8b88f0d5-333a-4c33-af1a-48c97c5a1880",
   "metadata": {},
   "source": [
    "### 3.\n",
    "\n",
    "Consider a Linear Factor Pricing Model (LFPM).\n",
    "\n",
    "Which metric do we examine to understand its fit, (or errors)?"
   ]
  },
  {
   "cell_type": "markdown",
   "id": "08acfae4",
   "metadata": {},
   "source": [
    "We examine if $|\\alpha|$ is high."
   ]
  },
  {
   "cell_type": "markdown",
   "id": "ea97348b",
   "metadata": {},
   "source": [
    "### 4.\n",
    "\n",
    "What aspect of the classic mean-variance optimization approach leads to extreme answers? How did regularization help with this issue?"
   ]
  },
  {
   "cell_type": "markdown",
   "id": "2f2f4fc2",
   "metadata": {},
   "source": [
    "Inverting the covariance matrix leads to extreme answers. Regularization helps with stabilizing this inverting procedure, so that small changes in the covariance matrix doesn't produce large changes in its inverse."
   ]
  },
  {
   "cell_type": "markdown",
   "id": "3d1b97d0-6219-4980-af49-da979de90d33",
   "metadata": {},
   "source": [
    "### 5.\n",
    "\n",
    "Suppose investors are **not** mean-variance investors. If we find an investment with a Sharpe ratio higher than the \"market\", would this would be inconsistent with the CAPM?"
   ]
  },
  {
   "cell_type": "markdown",
   "id": "d7428a6e",
   "metadata": {},
   "source": [
    "Yes, because the CAPM suggests that the market has the highest Sharpe, $SR(r^i) = \\rho_{i, m} SR(r^m)$ and the correlation $\\rho_{i, m}$ is always $\\leq 1$."
   ]
  },
  {
   "cell_type": "markdown",
   "id": "c82adefc-a007-4f3e-a8d7-d46d9843303f",
   "metadata": {},
   "source": [
    "### 6.\n",
    "\n",
    "Which is more useful in assessing the model’s fit for pricing: the r-squared of the time-series regressions, the r-squared of the cross-sectional regression, or neither?"
   ]
  },
  {
   "cell_type": "markdown",
   "id": "cdea28bc",
   "metadata": {},
   "source": [
    "Neither. What matters is the $\\alpha$ of the cross-sectional regression."
   ]
  },
  {
   "cell_type": "markdown",
   "id": "7f86b988-7f73-4abd-bf5b-503c65afa840",
   "metadata": {},
   "source": [
    "### 7.\n",
    "\n",
    "GMO stated that they had a “contrarian” investment style. What did they mean by this? Was this seen in our investigation of the fund, GMWAX?"
   ]
  },
  {
   "cell_type": "markdown",
   "id": "5de587ab",
   "metadata": {},
   "source": [
    "GMO believed that actual market prices could deviate from fundamental value, and that investors overreact to short-term trends, and that the fund can identify these bubbles and invest in long-term trends. This is reflected in our investigation with high market betas, i.e., large exposure to systematic risk."
   ]
  },
  {
   "cell_type": "markdown",
   "id": "cf2f17f1-b26e-4cd6-8fc8-88b7f270c92b",
   "metadata": {},
   "source": [
    "### 8.\n",
    "\n",
    "How does Harvard make their portfolio allocation more realistic than a basic mean- variance optimization would imply? Is their approach easily implemented and computed from a numerical standpoint?"
   ]
  },
  {
   "cell_type": "markdown",
   "id": "60cdd8a2",
   "metadata": {},
   "source": [
    "Harvard had bounds on their asset positions. This is still easily implemented and computed from a numerical standpoint."
   ]
  },
  {
   "cell_type": "markdown",
   "id": "3a001e9c-5f43-4de3-bacd-15827b4f0edd",
   "metadata": {},
   "source": [
    "### 9.\n",
    "\n",
    "If we want to hedge a portfolio's returns with respect to SPY, how could we calculate the optimal ratio? How would this ratio then be used to build the hedged position?"
   ]
  },
  {
   "cell_type": "markdown",
   "id": "88f3b2b4",
   "metadata": {},
   "source": [
    "Regress against SPY as $r^p = \\alpha + \\beta_{p, SPY} r^{SPY} + \\epsilon$, then have the hedged position $r^p - \\beta_{p, SPY} r^{SPY}$."
   ]
  },
  {
   "cell_type": "markdown",
   "id": "c40c1ff5-a5df-447e-881e-ddd3823187d7",
   "metadata": {},
   "source": [
    "### 10.\n",
    "\n",
    "Name one way in which Fama and French construct the factors that helps reduce cross-factor correlation."
   ]
  },
  {
   "cell_type": "markdown",
   "id": "786f0b43",
   "metadata": {},
   "source": [
    "For each factor, they long some and short some; for example, for `SMB`, they long small cap companies and short large cap companies. So the overall trend of the market is neutralized, and thus cross-factor correlation between, say, `SMB` and `HML`, simply because of the overall market movement, is reduced."
   ]
  },
  {
   "cell_type": "markdown",
   "id": "55e42346",
   "metadata": {},
   "source": [
    "***"
   ]
  },
  {
   "cell_type": "markdown",
   "id": "2d66389e",
   "metadata": {},
   "source": [
    "# 2. Allocation\n"
   ]
  },
  {
   "cell_type": "markdown",
   "id": "68b67603",
   "metadata": {},
   "source": [
    "Consider a mean-variance optimization of **excess** returns provided in `midterm_data.xlsx.`"
   ]
  },
  {
   "cell_type": "code",
   "execution_count": 3,
   "id": "5447e5a9",
   "metadata": {},
   "outputs": [],
   "source": [
    "def calc_return_metrics(data, as_df=True, adj = 52):\n",
    "    \"\"\"\n",
    "    Calculate return metrics for a DataFrame of assets.\n",
    "\n",
    "    Args:\n",
    "        data (pd.DataFrame): DataFrame of asset returns.\n",
    "        as_df (bool, optional): Return a DF or a dict. Defaults to False (return a dict).\n",
    "        adj (int, optional): Annualization. Defaults to 12.\n",
    "\n",
    "    Returns:\n",
    "        Union[dict, DataFrame]: Dict or DataFrame of return metrics.\n",
    "    \"\"\"\n",
    "    summary = dict()\n",
    "    summary[\"Annualized Return\"] = data.mean() * adj\n",
    "    summary[\"Annualized Volatility\"] = data.std() * np.sqrt(adj)\n",
    "    summary[\"Annualized Sharpe Ratio\"] = (\n",
    "        summary[\"Annualized Return\"] / summary[\"Annualized Volatility\"]\n",
    "    )\n",
    "    # summary[\"Annualized Sortino Ratio\"] = summary[\"Annualized Return\"] / (\n",
    "    #     data[data < 0].std() * np.sqrt(adj)\n",
    "    # )\n",
    "    return pd.DataFrame(summary, index=data.columns) if as_df else summary\n",
    "\n",
    "\n",
    "def calc_risk_metrics(data, as_df=True, var=0.05):\n",
    "    \"\"\"\n",
    "    Calculate risk metrics for a DataFrame of assets.\n",
    "\n",
    "    Args:\n",
    "        data (pd.DataFrame): DataFrame of asset returns.\n",
    "        as_df (bool, optional): Return a DF or a dict. Defaults to False.\n",
    "        adj (int, optional): Annualizatin. Defaults to 12.\n",
    "        var (float, optional): VaR level. Defaults to 0.05.\n",
    "\n",
    "    Returns:\n",
    "        Union[dict, DataFrame]: Dict or DataFrame of risk metrics.\n",
    "    \"\"\"\n",
    "    summary = dict()\n",
    "    summary[\"Skewness\"] = data.skew()\n",
    "    summary[\"Kurtosis\"] = data.kurtosis()\n",
    "    summary[f\"VaR ({var})\"] = data.quantile(var, axis=0)\n",
    "    summary[f\"CVaR ({var})\"] = data[data <= data.quantile(var, axis=0)].mean()\n",
    "    summary[\"Min\"] = data.min()\n",
    "    summary[\"Max\"] = data.max()\n",
    "\n",
    "    wealth_index = 1000 * (1 + data).cumprod()\n",
    "    previous_peaks = wealth_index.cummax()\n",
    "    drawdowns = (wealth_index - previous_peaks) / previous_peaks\n",
    "\n",
    "    summary[\"Max Drawdown\"] = drawdowns.min()\n",
    "\n",
    "    summary[\"Bottom\"] = drawdowns.idxmin()\n",
    "    summary[\"Peak\"] = previous_peaks.idxmax()\n",
    "\n",
    "    recovery_date = []\n",
    "    for col in wealth_index.columns:\n",
    "        prev_max = previous_peaks[col][: drawdowns[col].idxmin()].max()\n",
    "        recovery_wealth = pd.DataFrame([wealth_index[col][drawdowns[col].idxmin() :]]).T\n",
    "        recovery_date.append(\n",
    "            recovery_wealth[recovery_wealth[col] >= prev_max].index.min()\n",
    "        )\n",
    "    summary[\"Recovery\"] = [\"-\" if pd.isnull(i) else i for i in recovery_date]\n",
    "\n",
    "    summary[\"Duration (days)\"] = [\n",
    "        (i - j).days if i != \"-\" else \"-\"\n",
    "        for i, j in zip(summary[\"Recovery\"], summary[\"Bottom\"])\n",
    "    ]\n",
    "\n",
    "    return pd.DataFrame(summary, index=data.columns) if as_df else summary\n",
    "\n",
    "\n",
    "def calc_performance_metrics(data, adj = 52, var=0.05):\n",
    "    \"\"\"\n",
    "    Aggregating function for calculating performance metrics. Returns both\n",
    "    risk and performance metrics.\n",
    "\n",
    "    Args:\n",
    "        data (pd.DataFrame): DataFrame of asset returns.\n",
    "        adj (int, optional): Annualization. Defaults to 12.\n",
    "        var (float, optional): VaR level. Defaults to 0.05.\n",
    "\n",
    "    Returns:\n",
    "        DataFrame: DataFrame of performance metrics.\n",
    "    \"\"\"\n",
    "    summary = {\n",
    "        **calc_return_metrics(data=data, as_df = False, adj=adj),\n",
    "        **calc_risk_metrics(data=data, as_df = False, var=var),\n",
    "    }\n",
    "    summary[\"Calmar Ratio\"] = summary[\"Annualized Return\"] / abs(\n",
    "        summary[\"Max Drawdown\"]\n",
    "    )\n",
    "    return pd.DataFrame(summary, index=data.columns)\n",
    "\n",
    "def plot_correlation_matrix(corrs, ax=None):\n",
    "    if ax:\n",
    "        sns.heatmap(\n",
    "            corrs,\n",
    "            annot=True,\n",
    "            cmap=\"coolwarm\",\n",
    "            vmin=-1,\n",
    "            vmax=1,\n",
    "            linewidths=0.7,\n",
    "            annot_kws={\"size\": 10},\n",
    "            fmt=\".2f\",\n",
    "            square=True,\n",
    "            cbar_kws={\"shrink\": 0.75},\n",
    "            ax=ax,\n",
    "        )\n",
    "    # Correlation helper function.\n",
    "    else:\n",
    "        ax = sns.heatmap(\n",
    "            corrs,\n",
    "            annot=True,\n",
    "            cmap=\"coolwarm\",\n",
    "            vmin=-1,\n",
    "            vmax=1,\n",
    "            linewidths=0.7,\n",
    "            annot_kws={\"size\": 10},\n",
    "            fmt=\".2f\",\n",
    "            square=True,\n",
    "            cbar_kws={\"shrink\": 0.75},\n",
    "        )\n",
    "\n",
    "    ax.set_xticklabels(ax.get_xticklabels(), rotation=45, horizontalalignment=\"right\")\n",
    "    return ax\n",
    "\n",
    "\n",
    "def print_max_min_correlation(corrs):\n",
    "    # Correlation helper function. Prints the min/max/absolute value\n",
    "    # for the correlation matrix.\n",
    "    corr_series = corrs.unstack()\n",
    "    corr_series = corr_series[corr_series != 1]\n",
    "\n",
    "    max_corr = corr_series.abs().agg([\"idxmax\", \"max\"]).T\n",
    "    min_corr = corr_series.abs().agg([\"idxmin\", \"min\"]).T\n",
    "    min_corr_raw = corr_series.agg([\"idxmin\", \"min\"]).T\n",
    "    max_corr, max_corr_val = max_corr[\"idxmax\"], max_corr[\"max\"]\n",
    "    min_corr, min_corr_val = min_corr[\"idxmin\"], min_corr[\"min\"]\n",
    "    min_corr_raw, min_corr_raw_val = min_corr_raw[\"idxmin\"], min_corr_raw[\"min\"]\n",
    "\n",
    "    print(\n",
    "        f\"Max Corr (by absolute value): {max_corr[0]} and {max_corr[1]} with a correlation of {max_corr_val:.2f}\"\n",
    "    )\n",
    "    print(\n",
    "        f\"Min Corr (by absolute value): {min_corr[0]} and {min_corr[1]} with a correlation of {min_corr_val:.2f}\"\n",
    "    )\n",
    "    print(\n",
    "        f\"Min Corr (raw): {min_corr_raw[0]} and {min_corr_raw[1]} with a correlation of {min_corr_raw_val:.2f}\"\n",
    "    )"
   ]
  },
  {
   "cell_type": "markdown",
   "id": "ebe496df",
   "metadata": {},
   "source": [
    "### 1. \n",
    "\n",
    "Report the following **annualized** statistics:\n",
    "* mean\n",
    "* volatility\n",
    "* Sharpe ratio"
   ]
  },
  {
   "cell_type": "code",
   "execution_count": 4,
   "id": "b38e4e85",
   "metadata": {},
   "outputs": [
    {
     "data": {
      "text/html": [
       "<div>\n",
       "<style scoped>\n",
       "    .dataframe tbody tr th:only-of-type {\n",
       "        vertical-align: middle;\n",
       "    }\n",
       "\n",
       "    .dataframe tbody tr th {\n",
       "        vertical-align: top;\n",
       "    }\n",
       "\n",
       "    .dataframe thead th {\n",
       "        text-align: right;\n",
       "    }\n",
       "</style>\n",
       "<table border=\"1\" class=\"dataframe\">\n",
       "  <thead>\n",
       "    <tr style=\"text-align: right;\">\n",
       "      <th></th>\n",
       "      <th>Annualized Return</th>\n",
       "      <th>Annualized Volatility</th>\n",
       "      <th>Annualized Sharpe Ratio</th>\n",
       "    </tr>\n",
       "  </thead>\n",
       "  <tbody>\n",
       "    <tr>\n",
       "      <th>AAPL</th>\n",
       "      <td>0.3194</td>\n",
       "      <td>0.2839</td>\n",
       "      <td>1.1252</td>\n",
       "    </tr>\n",
       "    <tr>\n",
       "      <th>MSFT</th>\n",
       "      <td>0.2881</td>\n",
       "      <td>0.2402</td>\n",
       "      <td>1.1993</td>\n",
       "    </tr>\n",
       "    <tr>\n",
       "      <th>AMZN</th>\n",
       "      <td>0.2395</td>\n",
       "      <td>0.3104</td>\n",
       "      <td>0.7715</td>\n",
       "    </tr>\n",
       "    <tr>\n",
       "      <th>NVDA</th>\n",
       "      <td>0.6507</td>\n",
       "      <td>0.4681</td>\n",
       "      <td>1.3900</td>\n",
       "    </tr>\n",
       "    <tr>\n",
       "      <th>GOOGL</th>\n",
       "      <td>0.1933</td>\n",
       "      <td>0.2742</td>\n",
       "      <td>0.7050</td>\n",
       "    </tr>\n",
       "    <tr>\n",
       "      <th>TSLA</th>\n",
       "      <td>0.5697</td>\n",
       "      <td>0.6070</td>\n",
       "      <td>0.9386</td>\n",
       "    </tr>\n",
       "    <tr>\n",
       "      <th>XOM</th>\n",
       "      <td>0.1242</td>\n",
       "      <td>0.3116</td>\n",
       "      <td>0.3986</td>\n",
       "    </tr>\n",
       "  </tbody>\n",
       "</table>\n",
       "</div>"
      ],
      "text/plain": [
       "       Annualized Return  Annualized Volatility  Annualized Sharpe Ratio\n",
       "AAPL              0.3194                 0.2839                   1.1252\n",
       "MSFT              0.2881                 0.2402                   1.1993\n",
       "AMZN              0.2395                 0.3104                   0.7715\n",
       "NVDA              0.6507                 0.4681                   1.3900\n",
       "GOOGL             0.1933                 0.2742                   0.7050\n",
       "TSLA              0.5697                 0.6070                   0.9386\n",
       "XOM               0.1242                 0.3116                   0.3986"
      ]
     },
     "metadata": {},
     "output_type": "display_data"
    }
   ],
   "source": [
    "performance = calc_performance_metrics(retsx, adj = 52)[['Annualized Return', 'Annualized Volatility', 'Annualized Sharpe Ratio']]\n",
    "display(performance)"
   ]
  },
  {
   "cell_type": "markdown",
   "id": "0bbedca6-c330-413e-a39d-8f90ab671df2",
   "metadata": {},
   "source": [
    "### 2.\n",
    "\n",
    "Report the weights of the tangency portfolio."
   ]
  },
  {
   "cell_type": "code",
   "execution_count": 5,
   "id": "0965d9a0",
   "metadata": {},
   "outputs": [],
   "source": [
    "def calc_mv_portfolio(df, target = None):\n",
    "    mean_rets = df.mean()\n",
    "    cov_matrix = df.cov()\n",
    "    inv_cov = np.linalg.inv(cov_matrix)\n",
    "    ones = np.ones(mean_rets.shape)\n",
    "    w_tan = (inv_cov @ mean_rets) / (ones.T @ (inv_cov @ mean_rets))\n",
    "    if target is None:\n",
    "        return pd.DataFrame({\"Tangency Portfolio\": w_tan}, index=df.columns)\n",
    "\n",
    "    return pd.DataFrame({\n",
    "        \"Tangency Portfolio\": w_tan,\n",
    "        \"Target Portfolio\": w_tan * target/(mean_rets @ w_tan)\n",
    "    }, index=df.columns)"
   ]
  },
  {
   "cell_type": "code",
   "execution_count": 6,
   "id": "87bed870",
   "metadata": {},
   "outputs": [
    {
     "data": {
      "text/html": [
       "<div>\n",
       "<style scoped>\n",
       "    .dataframe tbody tr th:only-of-type {\n",
       "        vertical-align: middle;\n",
       "    }\n",
       "\n",
       "    .dataframe tbody tr th {\n",
       "        vertical-align: top;\n",
       "    }\n",
       "\n",
       "    .dataframe thead th {\n",
       "        text-align: right;\n",
       "    }\n",
       "</style>\n",
       "<table border=\"1\" class=\"dataframe\">\n",
       "  <thead>\n",
       "    <tr style=\"text-align: right;\">\n",
       "      <th></th>\n",
       "      <th>Tangency Portfolio</th>\n",
       "    </tr>\n",
       "  </thead>\n",
       "  <tbody>\n",
       "    <tr>\n",
       "      <th>AAPL</th>\n",
       "      <td>0.3226</td>\n",
       "    </tr>\n",
       "    <tr>\n",
       "      <th>MSFT</th>\n",
       "      <td>0.7875</td>\n",
       "    </tr>\n",
       "    <tr>\n",
       "      <th>AMZN</th>\n",
       "      <td>-0.2286</td>\n",
       "    </tr>\n",
       "    <tr>\n",
       "      <th>NVDA</th>\n",
       "      <td>0.4960</td>\n",
       "    </tr>\n",
       "    <tr>\n",
       "      <th>GOOGL</th>\n",
       "      <td>-0.5027</td>\n",
       "    </tr>\n",
       "    <tr>\n",
       "      <th>TSLA</th>\n",
       "      <td>0.1060</td>\n",
       "    </tr>\n",
       "    <tr>\n",
       "      <th>XOM</th>\n",
       "      <td>0.0193</td>\n",
       "    </tr>\n",
       "  </tbody>\n",
       "</table>\n",
       "</div>"
      ],
      "text/plain": [
       "       Tangency Portfolio\n",
       "AAPL               0.3226\n",
       "MSFT               0.7875\n",
       "AMZN              -0.2286\n",
       "NVDA               0.4960\n",
       "GOOGL             -0.5027\n",
       "TSLA               0.1060\n",
       "XOM                0.0193"
      ]
     },
     "metadata": {},
     "output_type": "display_data"
    }
   ],
   "source": [
    "w_tan = calc_mv_portfolio(retsx)\n",
    "display(w_tan)"
   ]
  },
  {
   "cell_type": "markdown",
   "id": "c2cbc4af-b1f8-4955-bc99-66b04f1ed658",
   "metadata": {},
   "source": [
    "### 3.\n",
    "Report the Sharpe ratio achieved by the tangency portfolio over this sample. Annualize it (accounting for weekly data.)"
   ]
  },
  {
   "cell_type": "code",
   "execution_count": 7,
   "id": "d8b3c4f6",
   "metadata": {},
   "outputs": [
    {
     "data": {
      "text/html": [
       "<div>\n",
       "<style scoped>\n",
       "    .dataframe tbody tr th:only-of-type {\n",
       "        vertical-align: middle;\n",
       "    }\n",
       "\n",
       "    .dataframe tbody tr th {\n",
       "        vertical-align: top;\n",
       "    }\n",
       "\n",
       "    .dataframe thead th {\n",
       "        text-align: right;\n",
       "    }\n",
       "</style>\n",
       "<table border=\"1\" class=\"dataframe\">\n",
       "  <thead>\n",
       "    <tr style=\"text-align: right;\">\n",
       "      <th></th>\n",
       "      <th>Annualized Return</th>\n",
       "      <th>Annualized Volatility</th>\n",
       "      <th>Annualized Sharpe Ratio</th>\n",
       "    </tr>\n",
       "  </thead>\n",
       "  <tbody>\n",
       "    <tr>\n",
       "      <th>Tangency Portfolio</th>\n",
       "      <td>0.5635</td>\n",
       "      <td>0.3584</td>\n",
       "      <td>1.5724</td>\n",
       "    </tr>\n",
       "  </tbody>\n",
       "</table>\n",
       "</div>"
      ],
      "text/plain": [
       "                    Annualized Return  Annualized Volatility  \\\n",
       "Tangency Portfolio             0.5635                 0.3584   \n",
       "\n",
       "                    Annualized Sharpe Ratio  \n",
       "Tangency Portfolio                   1.5724  "
      ]
     },
     "execution_count": 7,
     "metadata": {},
     "output_type": "execute_result"
    }
   ],
   "source": [
    "calc_return_metrics(retsx @ w_tan, adj = 52)"
   ]
  },
  {
   "cell_type": "markdown",
   "id": "eb1bab65",
   "metadata": {},
   "source": [
    "### 4.\n",
    "\n",
    "* What weight is given to the asset with the lowest Sharpe ratio?\n",
    "* What Sharpe ratio does the lowest (most negative) weight asset have?\n",
    "\n",
    "Explain why the weights are not most extreme for the assets with the largest/smallest Share Ratios."
   ]
  },
  {
   "cell_type": "code",
   "execution_count": 8,
   "id": "6c6716a0",
   "metadata": {},
   "outputs": [
    {
     "data": {
      "text/html": [
       "<div>\n",
       "<style scoped>\n",
       "    .dataframe tbody tr th:only-of-type {\n",
       "        vertical-align: middle;\n",
       "    }\n",
       "\n",
       "    .dataframe tbody tr th {\n",
       "        vertical-align: top;\n",
       "    }\n",
       "\n",
       "    .dataframe thead th {\n",
       "        text-align: right;\n",
       "    }\n",
       "</style>\n",
       "<table border=\"1\" class=\"dataframe\">\n",
       "  <thead>\n",
       "    <tr style=\"text-align: right;\">\n",
       "      <th></th>\n",
       "      <th>Annualized Return</th>\n",
       "      <th>Annualized Volatility</th>\n",
       "      <th>Annualized Sharpe Ratio</th>\n",
       "      <th>Tangency Portfolio</th>\n",
       "    </tr>\n",
       "  </thead>\n",
       "  <tbody>\n",
       "    <tr>\n",
       "      <th>XOM</th>\n",
       "      <td>0.1242</td>\n",
       "      <td>0.3116</td>\n",
       "      <td>0.3986</td>\n",
       "      <td>0.0193</td>\n",
       "    </tr>\n",
       "    <tr>\n",
       "      <th>GOOGL</th>\n",
       "      <td>0.1933</td>\n",
       "      <td>0.2742</td>\n",
       "      <td>0.7050</td>\n",
       "      <td>-0.5027</td>\n",
       "    </tr>\n",
       "    <tr>\n",
       "      <th>AMZN</th>\n",
       "      <td>0.2395</td>\n",
       "      <td>0.3104</td>\n",
       "      <td>0.7715</td>\n",
       "      <td>-0.2286</td>\n",
       "    </tr>\n",
       "    <tr>\n",
       "      <th>TSLA</th>\n",
       "      <td>0.5697</td>\n",
       "      <td>0.6070</td>\n",
       "      <td>0.9386</td>\n",
       "      <td>0.1060</td>\n",
       "    </tr>\n",
       "    <tr>\n",
       "      <th>AAPL</th>\n",
       "      <td>0.3194</td>\n",
       "      <td>0.2839</td>\n",
       "      <td>1.1252</td>\n",
       "      <td>0.3226</td>\n",
       "    </tr>\n",
       "    <tr>\n",
       "      <th>MSFT</th>\n",
       "      <td>0.2881</td>\n",
       "      <td>0.2402</td>\n",
       "      <td>1.1993</td>\n",
       "      <td>0.7875</td>\n",
       "    </tr>\n",
       "    <tr>\n",
       "      <th>NVDA</th>\n",
       "      <td>0.6507</td>\n",
       "      <td>0.4681</td>\n",
       "      <td>1.3900</td>\n",
       "      <td>0.4960</td>\n",
       "    </tr>\n",
       "  </tbody>\n",
       "</table>\n",
       "</div>"
      ],
      "text/plain": [
       "       Annualized Return  Annualized Volatility  Annualized Sharpe Ratio  \\\n",
       "XOM               0.1242                 0.3116                   0.3986   \n",
       "GOOGL             0.1933                 0.2742                   0.7050   \n",
       "AMZN              0.2395                 0.3104                   0.7715   \n",
       "TSLA              0.5697                 0.6070                   0.9386   \n",
       "AAPL              0.3194                 0.2839                   1.1252   \n",
       "MSFT              0.2881                 0.2402                   1.1993   \n",
       "NVDA              0.6507                 0.4681                   1.3900   \n",
       "\n",
       "       Tangency Portfolio  \n",
       "XOM                0.0193  \n",
       "GOOGL             -0.5027  \n",
       "AMZN              -0.2286  \n",
       "TSLA               0.1060  \n",
       "AAPL               0.3226  \n",
       "MSFT               0.7875  \n",
       "NVDA               0.4960  "
      ]
     },
     "metadata": {},
     "output_type": "display_data"
    }
   ],
   "source": [
    "performance['Tangency Portfolio'] = w_tan\n",
    "display(performance.sort_values('Annualized Sharpe Ratio'))"
   ]
  },
  {
   "cell_type": "markdown",
   "id": "8630674a",
   "metadata": {},
   "source": [
    "- Weight 0.0193 is given to `XOM` with the lowest Sharpe of 0.3986.\n",
    "- `GOOGL` has most negative weight at -0.5027, with Sharpe 0.7050.\n",
    "- Because in an MV portfolio, what matters is the covariance between the assets, not individual asset's Sharpe."
   ]
  },
  {
   "cell_type": "markdown",
   "id": "f39c17ae-0af8-4a89-a27a-a199c0ce2c77",
   "metadata": {},
   "source": [
    "### 5.\n",
    "\n",
    "To target a mean return of `0.001` weekly, would you be invested in the risk-free rate or borrowing from the risk-free rate?"
   ]
  },
  {
   "cell_type": "code",
   "execution_count": 9,
   "id": "ee9c6820",
   "metadata": {},
   "outputs": [
    {
     "data": {
      "text/html": [
       "<div>\n",
       "<style scoped>\n",
       "    .dataframe tbody tr th:only-of-type {\n",
       "        vertical-align: middle;\n",
       "    }\n",
       "\n",
       "    .dataframe tbody tr th {\n",
       "        vertical-align: top;\n",
       "    }\n",
       "\n",
       "    .dataframe thead th {\n",
       "        text-align: right;\n",
       "    }\n",
       "</style>\n",
       "<table border=\"1\" class=\"dataframe\">\n",
       "  <thead>\n",
       "    <tr style=\"text-align: right;\">\n",
       "      <th></th>\n",
       "      <th>Tangency Portfolio</th>\n",
       "      <th>Target Portfolio</th>\n",
       "    </tr>\n",
       "  </thead>\n",
       "  <tbody>\n",
       "    <tr>\n",
       "      <th>AAPL</th>\n",
       "      <td>0.3226</td>\n",
       "      <td>0.0298</td>\n",
       "    </tr>\n",
       "    <tr>\n",
       "      <th>MSFT</th>\n",
       "      <td>0.7875</td>\n",
       "      <td>0.0727</td>\n",
       "    </tr>\n",
       "    <tr>\n",
       "      <th>AMZN</th>\n",
       "      <td>-0.2286</td>\n",
       "      <td>-0.0211</td>\n",
       "    </tr>\n",
       "    <tr>\n",
       "      <th>NVDA</th>\n",
       "      <td>0.4960</td>\n",
       "      <td>0.0458</td>\n",
       "    </tr>\n",
       "    <tr>\n",
       "      <th>GOOGL</th>\n",
       "      <td>-0.5027</td>\n",
       "      <td>-0.0464</td>\n",
       "    </tr>\n",
       "    <tr>\n",
       "      <th>TSLA</th>\n",
       "      <td>0.1060</td>\n",
       "      <td>0.0098</td>\n",
       "    </tr>\n",
       "    <tr>\n",
       "      <th>XOM</th>\n",
       "      <td>0.0193</td>\n",
       "      <td>0.0018</td>\n",
       "    </tr>\n",
       "  </tbody>\n",
       "</table>\n",
       "</div>"
      ],
      "text/plain": [
       "       Tangency Portfolio  Target Portfolio\n",
       "AAPL               0.3226            0.0298\n",
       "MSFT               0.7875            0.0727\n",
       "AMZN              -0.2286           -0.0211\n",
       "NVDA               0.4960            0.0458\n",
       "GOOGL             -0.5027           -0.0464\n",
       "TSLA               0.1060            0.0098\n",
       "XOM                0.0193            0.0018"
      ]
     },
     "metadata": {},
     "output_type": "display_data"
    },
    {
     "name": "stdout",
     "output_type": "stream",
     "text": [
      "Target Portfolio Total Position: 0.09228463054305538\n"
     ]
    }
   ],
   "source": [
    "w_targeted = calc_mv_portfolio(retsx, 0.001)\n",
    "display(w_targeted)\n",
    "print(f\"Target Portfolio Total Position: {w_targeted['Target Portfolio'].sum()}\")"
   ]
  },
  {
   "cell_type": "markdown",
   "id": "3e5605f9",
   "metadata": {},
   "source": [
    "Only 9% will be invested in these stocks, and the rest should be invested in risk-free rate."
   ]
  },
  {
   "cell_type": "markdown",
   "id": "30cdbfa9",
   "metadata": {},
   "source": [
    "***"
   ]
  },
  {
   "cell_type": "markdown",
   "id": "a34d9fbd",
   "metadata": {},
   "source": [
    "# 3. Performance"
   ]
  },
  {
   "cell_type": "markdown",
   "id": "426af123",
   "metadata": {},
   "source": [
    "### 1. \n",
    "\n",
    "Report the following performance metrics of excess returns for Tesla (`TSLA`).\n",
    "* skewness\n",
    "* kurtosis\n",
    "\n",
    "You are not annualizing any of these stats.\n",
    "\n",
    "What do these metrics indicate about the nature of the returns?"
   ]
  },
  {
   "cell_type": "code",
   "execution_count": 10,
   "id": "2202c18f",
   "metadata": {},
   "outputs": [
    {
     "data": {
      "text/html": [
       "<div>\n",
       "<style scoped>\n",
       "    .dataframe tbody tr th:only-of-type {\n",
       "        vertical-align: middle;\n",
       "    }\n",
       "\n",
       "    .dataframe tbody tr th {\n",
       "        vertical-align: top;\n",
       "    }\n",
       "\n",
       "    .dataframe thead th {\n",
       "        text-align: right;\n",
       "    }\n",
       "</style>\n",
       "<table border=\"1\" class=\"dataframe\">\n",
       "  <thead>\n",
       "    <tr style=\"text-align: right;\">\n",
       "      <th></th>\n",
       "      <th>Skewness</th>\n",
       "      <th>Kurtosis</th>\n",
       "    </tr>\n",
       "  </thead>\n",
       "  <tbody>\n",
       "    <tr>\n",
       "      <th>TSLA</th>\n",
       "      <td>0.4415</td>\n",
       "      <td>1.5274</td>\n",
       "    </tr>\n",
       "  </tbody>\n",
       "</table>\n",
       "</div>"
      ],
      "text/plain": [
       "      Skewness  Kurtosis\n",
       "TSLA    0.4415    1.5274"
      ]
     },
     "execution_count": 10,
     "metadata": {},
     "output_type": "execute_result"
    }
   ],
   "source": [
    "calc_risk_metrics(retsx[['TSLA']])[['Skewness', 'Kurtosis']]"
   ]
  },
  {
   "cell_type": "markdown",
   "id": "4bb82de2",
   "metadata": {},
   "source": [
    "The positive skew means a longer positive tail. The kurtosis of around 1.52 suggests that the tails are relatively flat."
   ]
  },
  {
   "cell_type": "markdown",
   "id": "877253fc",
   "metadata": {},
   "source": [
    "### 2. \n",
    "\n",
    "Report the maximum drawdown for `TSLA` over the sample.\n",
    "* Ignore that your data is in excess returns rather than total returns.\n",
    "* Simply proceed with the excess return data for this calculation."
   ]
  },
  {
   "cell_type": "code",
   "execution_count": 11,
   "id": "29c8f868",
   "metadata": {},
   "outputs": [
    {
     "data": {
      "text/html": [
       "<div>\n",
       "<style scoped>\n",
       "    .dataframe tbody tr th:only-of-type {\n",
       "        vertical-align: middle;\n",
       "    }\n",
       "\n",
       "    .dataframe tbody tr th {\n",
       "        vertical-align: top;\n",
       "    }\n",
       "\n",
       "    .dataframe thead th {\n",
       "        text-align: right;\n",
       "    }\n",
       "</style>\n",
       "<table border=\"1\" class=\"dataframe\">\n",
       "  <thead>\n",
       "    <tr style=\"text-align: right;\">\n",
       "      <th></th>\n",
       "      <th>Max Drawdown</th>\n",
       "    </tr>\n",
       "  </thead>\n",
       "  <tbody>\n",
       "    <tr>\n",
       "      <th>TSLA</th>\n",
       "      <td>-0.6822</td>\n",
       "    </tr>\n",
       "  </tbody>\n",
       "</table>\n",
       "</div>"
      ],
      "text/plain": [
       "      Max Drawdown\n",
       "TSLA       -0.6822"
      ]
     },
     "execution_count": 11,
     "metadata": {},
     "output_type": "execute_result"
    }
   ],
   "source": [
    "calc_risk_metrics(retsx[['TSLA']])[['Max Drawdown']]"
   ]
  },
  {
   "cell_type": "markdown",
   "id": "20d77a74",
   "metadata": {},
   "source": [
    "### 3.\n",
    "\n",
    "For `TSLA`, calculate the following metrics, relative to `SPY`:\n",
    "* market beta\n",
    "* alpha\n",
    "* information ratio\n",
    "\n",
    "Annualize alpha and information ratio.\n",
    "\n",
    "*Recall that this is weekly data, with 52 weeks per year.*"
   ]
  },
  {
   "cell_type": "code",
   "execution_count": 12,
   "id": "df6bcba3",
   "metadata": {},
   "outputs": [],
   "source": [
    "def unitarget_regression(y, X,  multi_X = True, adj = 52):\n",
    "    \"\"\"\n",
    "        Regress y against univariate/multivariate X\n",
    "        y: pd.Series\n",
    "        X: pd.DataFrame\n",
    "        multi_X: Boolean\n",
    "    \"\"\"\n",
    "    summary = {}\n",
    "    reg = LinearRegression()\n",
    "    reg.fit(X, y)\n",
    "    summary['Annualized Alpha'] = reg.intercept_ * adj\n",
    "    summary['Rsquared'] = reg.score(X, y)\n",
    "    for i, x in enumerate(X.columns):\n",
    "        summary[f'Beta {x}'] = reg.coef_[i]\n",
    "    eps = y - reg.predict(X)\n",
    "    summary['Annualized Information Ratio'] = reg.intercept_/eps.std() * np.sqrt(adj)\n",
    "    summary['Annualized Tracking Error'] = eps.std() * np.sqrt(adj)\n",
    "    if not multi_X:\n",
    "        name_x = X.columns[0]\n",
    "        summary['Annualized Treynor Ratio'] = y.mean()/summary[f'Beta {name_x}'] * adj\n",
    "    return pd.DataFrame(summary, index = [y.name])\n",
    "\n",
    "def multitarget_regression(y, X, multi_X = False, adj = 52):\n",
    "    \"\"\"\n",
    "        y: pd.DataFrame\n",
    "        X: pd.DataFrame\n",
    "        multi_X: Boolean\n",
    "    \"\"\"\n",
    "    return pd.concat([unitarget_regression(y[col], X, multi_X, adj) for col in y.columns], axis = 0)\n",
    "\n",
    "def regression(y, X, multi_y = False, multi_X = False, adj = 52):\n",
    "    \"\"\"\n",
    "        multi_y: Boolean\n",
    "        multi_X: Boolean\n",
    "    \"\"\"\n",
    "    if multi_y:\n",
    "        return multitarget_regression(y, X, multi_X, adj)\n",
    "    return unitarget_regression(y, X, multi_X, adj)"
   ]
  },
  {
   "cell_type": "code",
   "execution_count": 13,
   "id": "db2e79d9",
   "metadata": {},
   "outputs": [
    {
     "data": {
      "text/html": [
       "<div>\n",
       "<style scoped>\n",
       "    .dataframe tbody tr th:only-of-type {\n",
       "        vertical-align: middle;\n",
       "    }\n",
       "\n",
       "    .dataframe tbody tr th {\n",
       "        vertical-align: top;\n",
       "    }\n",
       "\n",
       "    .dataframe thead th {\n",
       "        text-align: right;\n",
       "    }\n",
       "</style>\n",
       "<table border=\"1\" class=\"dataframe\">\n",
       "  <thead>\n",
       "    <tr style=\"text-align: right;\">\n",
       "      <th></th>\n",
       "      <th>Annualized Alpha</th>\n",
       "      <th>Beta SPY</th>\n",
       "      <th>Annualized Information Ratio</th>\n",
       "    </tr>\n",
       "  </thead>\n",
       "  <tbody>\n",
       "    <tr>\n",
       "      <th>TSLA</th>\n",
       "      <td>0.3095</td>\n",
       "      <td>1.7768</td>\n",
       "      <td>0.5961</td>\n",
       "    </tr>\n",
       "  </tbody>\n",
       "</table>\n",
       "</div>"
      ],
      "text/plain": [
       "      Annualized Alpha  Beta SPY  Annualized Information Ratio\n",
       "TSLA            0.3095    1.7768                        0.5961"
      ]
     },
     "execution_count": 13,
     "metadata": {},
     "output_type": "execute_result"
    }
   ],
   "source": [
    "regression(retsx['TSLA'], spy)[['Annualized Alpha', 'Beta SPY', 'Annualized Information Ratio']]"
   ]
  },
  {
   "cell_type": "markdown",
   "id": "695093a0-4a01-4d80-be8c-b5380ca50ea3",
   "metadata": {},
   "source": [
    "### 4.\n",
    "\n",
    "Comment on what you conclude about `TSLA` based on the statistics calculated in the previous question."
   ]
  },
  {
   "cell_type": "markdown",
   "id": "21679a26",
   "metadata": {},
   "source": [
    "The high market beta implies that it has high risk premium."
   ]
  },
  {
   "cell_type": "markdown",
   "id": "efee2bb2",
   "metadata": {},
   "source": [
    "***"
   ]
  },
  {
   "cell_type": "markdown",
   "id": "f3820d1b",
   "metadata": {},
   "source": [
    "# 4. Hedging"
   ]
  },
  {
   "cell_type": "markdown",
   "id": "b559f9a9",
   "metadata": {},
   "source": [
    "### 1. \n",
    "\n",
    "Consider the following scenario: you are holding a \\$100 million long position in `NVDA`. You wish to hedge the position using some combination of \n",
    "* `AAPL`\n",
    "* `AMZN`\n",
    "* `GOOGL`\n",
    "* `MSFT`\n",
    "\n",
    "Report the positions you would hold of those 4 securities for an optimal hedge.\n",
    "\n",
    "Note:\n",
    "* In the regression estimation, include an intercept.\n",
    "* Use the full-sample regression. No need to worry about in-sample versus out-of-sample."
   ]
  },
  {
   "cell_type": "code",
   "execution_count": 14,
   "id": "6afc13ad",
   "metadata": {},
   "outputs": [
    {
     "data": {
      "text/html": [
       "<div>\n",
       "<style scoped>\n",
       "    .dataframe tbody tr th:only-of-type {\n",
       "        vertical-align: middle;\n",
       "    }\n",
       "\n",
       "    .dataframe tbody tr th {\n",
       "        vertical-align: top;\n",
       "    }\n",
       "\n",
       "    .dataframe thead th {\n",
       "        text-align: right;\n",
       "    }\n",
       "</style>\n",
       "<table border=\"1\" class=\"dataframe\">\n",
       "  <thead>\n",
       "    <tr style=\"text-align: right;\">\n",
       "      <th></th>\n",
       "      <th>Annualized Alpha</th>\n",
       "      <th>Rsquared</th>\n",
       "      <th>Beta AAPL</th>\n",
       "      <th>Beta AMZN</th>\n",
       "      <th>Beta GOOGL</th>\n",
       "      <th>Beta MSFT</th>\n",
       "      <th>Annualized Information Ratio</th>\n",
       "      <th>Annualized Tracking Error</th>\n",
       "    </tr>\n",
       "  </thead>\n",
       "  <tbody>\n",
       "    <tr>\n",
       "      <th>NVDA</th>\n",
       "      <td>0.2738</td>\n",
       "      <td>0.4582</td>\n",
       "      <td>0.3417</td>\n",
       "      <td>0.4173</td>\n",
       "      <td>-0.0078</td>\n",
       "      <td>0.5879</td>\n",
       "      <td>0.7945</td>\n",
       "      <td>0.3446</td>\n",
       "    </tr>\n",
       "  </tbody>\n",
       "</table>\n",
       "</div>"
      ],
      "text/plain": [
       "      Annualized Alpha  Rsquared  Beta AAPL  Beta AMZN  Beta GOOGL  Beta MSFT  \\\n",
       "NVDA            0.2738    0.4582     0.3417     0.4173     -0.0078     0.5879   \n",
       "\n",
       "      Annualized Information Ratio  Annualized Tracking Error  \n",
       "NVDA                        0.7945                     0.3446  "
      ]
     },
     "execution_count": 14,
     "metadata": {},
     "output_type": "execute_result"
    }
   ],
   "source": [
    "regression(retsx['NVDA'], retsx[['AAPL', 'AMZN', 'GOOGL', 'MSFT']], multi_X = True)"
   ]
  },
  {
   "cell_type": "markdown",
   "id": "b9540230",
   "metadata": {},
   "source": [
    "My total position would then be\n",
    "- $100M long NVDA\n",
    "- $34.17M short AAPL\n",
    "- $41.73M short AMZN\n",
    "- $0.78M long GOOGL\n",
    "- $58.79M short MSFT"
   ]
  },
  {
   "cell_type": "markdown",
   "id": "6127f366",
   "metadata": {},
   "source": [
    "### 2.\n",
    "\n",
    "How well does the hedge do? Cite a regression statistic to support your answer.\n",
    "\n",
    "Also estimate the volatility of the basis, (epsilon.)"
   ]
  },
  {
   "cell_type": "markdown",
   "id": "c309ad5d",
   "metadata": {},
   "source": [
    "The volatility of epsilon is reported above. The hedge does relatively ok, capturing positive $\\alpha$. Its annualized Sharpe is the annualized Information Ratio, which is relatively ok at 0.7945."
   ]
  },
  {
   "cell_type": "markdown",
   "id": "9a75877f-470f-41e2-8467-6e7362e3f34e",
   "metadata": {},
   "source": [
    "***"
   ]
  },
  {
   "cell_type": "markdown",
   "id": "9bfde231-ece9-4d63-bf5c-f3d8154269bb",
   "metadata": {},
   "source": [
    "# 5. Forecasting"
   ]
  },
  {
   "cell_type": "markdown",
   "id": "d7910055-2d9f-4898-b56c-71236182f98d",
   "metadata": {},
   "source": [
    "Forecast (total) returns on oil as tracked by the ETF ticker, `USO`. \n",
    "\n",
    "As signals, use two interest rate signals, as seen in Treasury-notes. (No need to consider anything specific about Treasury notes, just read these as macroeconomic signals.)\n",
    "* T-note rate\n",
    "* month-over-month change in the T-note rate\n",
    "\n",
    "Find the all data needed for this problem in the sheet `forecasting`.\n",
    "\n",
    "Note that the data in this sheet is monthly, not weekly."
   ]
  },
  {
   "cell_type": "markdown",
   "id": "43b51c40-a422-45dd-8626-72b20fe28315",
   "metadata": {},
   "source": [
    "### 1.\n",
    "\n",
    "Estimate a forecasting regression of $\\targ$ on the two (lagged) signals.\n",
    "\n",
    "$$r_{t+1}^{\\targ} = \\alpha + \\beta^{x}x_t + \\beta^z z_t + \\epsilon_{t+1}$$\n",
    "\n",
    "where\n",
    "* $x$ denotes the interest-rate signal.\n",
    "* $z$ denotes the change in rate signal.\n",
    "\n",
    "Report the r-squared, as well as the OLS estimates for the intercept and the two betas. (No need to annualize the stats.)"
   ]
  },
  {
   "cell_type": "code",
   "execution_count": 15,
   "id": "33c8520f",
   "metadata": {},
   "outputs": [],
   "source": [
    "def lagged(y, X, delta_shift = 1):\n",
    "    \"\"\"\n",
    "        y: pd.Series\n",
    "        X: pd.DataFrame\n",
    "    \"\"\"\n",
    "    X = X.shift(delta_shift).dropna()\n",
    "    y = y.loc[X.index]\n",
    "    reg = LinearRegression()\n",
    "    reg.fit(X, y)\n",
    "    stats= {}\n",
    "    stats['Rsquared'] = reg.score(X, y)\n",
    "    stats['Alpha'] = reg.intercept_\n",
    "    for i, x in enumerate(X.columns):\n",
    "        stats[f'Beta {x}'] = reg.coef_[i]\n",
    "    yhat = reg.predict(X)\n",
    "    w = 0.5 + 0.5 * yhat\n",
    "    X_name = ', '.join(X.columns)\n",
    "    strategy_rets = (w * y).rename(X_name)\n",
    "    return {\n",
    "        'stats': pd.DataFrame(stats, index = [X_name]),\n",
    "        'strategy_rets': pd.DataFrame(strategy_rets),\n",
    "        'yhat': yhat\n",
    "    }\n",
    "\n",
    "lagged_results = lagged(forecasting['USO'], forecasting[['Tnote rate', 'Tnote rate change']])"
   ]
  },
  {
   "cell_type": "code",
   "execution_count": 16,
   "id": "eefe6147",
   "metadata": {},
   "outputs": [
    {
     "data": {
      "text/html": [
       "<div>\n",
       "<style scoped>\n",
       "    .dataframe tbody tr th:only-of-type {\n",
       "        vertical-align: middle;\n",
       "    }\n",
       "\n",
       "    .dataframe tbody tr th {\n",
       "        vertical-align: top;\n",
       "    }\n",
       "\n",
       "    .dataframe thead th {\n",
       "        text-align: right;\n",
       "    }\n",
       "</style>\n",
       "<table border=\"1\" class=\"dataframe\">\n",
       "  <thead>\n",
       "    <tr style=\"text-align: right;\">\n",
       "      <th></th>\n",
       "      <th>Rsquared</th>\n",
       "      <th>Alpha</th>\n",
       "      <th>Beta Tnote rate</th>\n",
       "      <th>Beta Tnote rate change</th>\n",
       "    </tr>\n",
       "  </thead>\n",
       "  <tbody>\n",
       "    <tr>\n",
       "      <th>Tnote rate, Tnote rate change</th>\n",
       "      <td>0.0281</td>\n",
       "      <td>0.0201</td>\n",
       "      <td>-0.0096</td>\n",
       "      <td>0.0741</td>\n",
       "    </tr>\n",
       "  </tbody>\n",
       "</table>\n",
       "</div>"
      ],
      "text/plain": [
       "                               Rsquared  Alpha  Beta Tnote rate  \\\n",
       "Tnote rate, Tnote rate change    0.0281 0.0201          -0.0096   \n",
       "\n",
       "                               Beta Tnote rate change  \n",
       "Tnote rate, Tnote rate change                  0.0741  "
      ]
     },
     "execution_count": 16,
     "metadata": {},
     "output_type": "execute_result"
    }
   ],
   "source": [
    "lagged_results['stats']"
   ]
  },
  {
   "cell_type": "markdown",
   "id": "f5cf4764-2c77-4a08-8c48-dede97175a43",
   "metadata": {},
   "source": [
    "### 2.\n",
    "\n",
    "Use your forecasted returns, $\\hat{r}^{\\targ}_{t+1}$ to build trading weights:\n",
    "\n",
    "$$w_t = 0.50 + 50\\;\\hat{r}^{\\targ}_{t+1}$$\n",
    "\n",
    "(So the rule says to hold 50% in the ETF plus/minus 50x the forecast. Recall the forecast is a monthly percentage, so it is a small number.)\n",
    "\n",
    "Calculate the return from implementing this strategy. Denote this as $r^x_t$.\n",
    "\n",
    "Report the first and last 5 values."
   ]
  },
  {
   "cell_type": "code",
   "execution_count": 17,
   "id": "aba54b88",
   "metadata": {},
   "outputs": [
    {
     "data": {
      "text/html": [
       "<div>\n",
       "<style scoped>\n",
       "    .dataframe tbody tr th:only-of-type {\n",
       "        vertical-align: middle;\n",
       "    }\n",
       "\n",
       "    .dataframe tbody tr th {\n",
       "        vertical-align: top;\n",
       "    }\n",
       "\n",
       "    .dataframe thead th {\n",
       "        text-align: right;\n",
       "    }\n",
       "</style>\n",
       "<table border=\"1\" class=\"dataframe\">\n",
       "  <thead>\n",
       "    <tr style=\"text-align: right;\">\n",
       "      <th></th>\n",
       "      <th>Tnote rate, Tnote rate change</th>\n",
       "    </tr>\n",
       "    <tr>\n",
       "      <th>date</th>\n",
       "      <th></th>\n",
       "    </tr>\n",
       "  </thead>\n",
       "  <tbody>\n",
       "    <tr>\n",
       "      <th>2009-06-30</th>\n",
       "      <td>0.0213</td>\n",
       "    </tr>\n",
       "    <tr>\n",
       "      <th>2009-07-31</th>\n",
       "      <td>-0.0146</td>\n",
       "    </tr>\n",
       "    <tr>\n",
       "      <th>2009-08-31</th>\n",
       "      <td>-0.0102</td>\n",
       "    </tr>\n",
       "    <tr>\n",
       "      <th>2009-09-30</th>\n",
       "      <td>0.0019</td>\n",
       "    </tr>\n",
       "    <tr>\n",
       "      <th>2009-10-31</th>\n",
       "      <td>0.0424</td>\n",
       "    </tr>\n",
       "  </tbody>\n",
       "</table>\n",
       "</div>"
      ],
      "text/plain": [
       "            Tnote rate, Tnote rate change\n",
       "date                                     \n",
       "2009-06-30                         0.0213\n",
       "2009-07-31                        -0.0146\n",
       "2009-08-31                        -0.0102\n",
       "2009-09-30                         0.0019\n",
       "2009-10-31                         0.0424"
      ]
     },
     "metadata": {},
     "output_type": "display_data"
    },
    {
     "data": {
      "text/html": [
       "<div>\n",
       "<style scoped>\n",
       "    .dataframe tbody tr th:only-of-type {\n",
       "        vertical-align: middle;\n",
       "    }\n",
       "\n",
       "    .dataframe tbody tr th {\n",
       "        vertical-align: top;\n",
       "    }\n",
       "\n",
       "    .dataframe thead th {\n",
       "        text-align: right;\n",
       "    }\n",
       "</style>\n",
       "<table border=\"1\" class=\"dataframe\">\n",
       "  <thead>\n",
       "    <tr style=\"text-align: right;\">\n",
       "      <th></th>\n",
       "      <th>Tnote rate, Tnote rate change</th>\n",
       "    </tr>\n",
       "    <tr>\n",
       "      <th>date</th>\n",
       "      <th></th>\n",
       "    </tr>\n",
       "  </thead>\n",
       "  <tbody>\n",
       "    <tr>\n",
       "      <th>2023-07-31</th>\n",
       "      <td>0.0755</td>\n",
       "    </tr>\n",
       "    <tr>\n",
       "      <th>2023-08-31</th>\n",
       "      <td>0.0128</td>\n",
       "    </tr>\n",
       "    <tr>\n",
       "      <th>2023-09-30</th>\n",
       "      <td>0.0383</td>\n",
       "    </tr>\n",
       "    <tr>\n",
       "      <th>2023-10-31</th>\n",
       "      <td>-0.0365</td>\n",
       "    </tr>\n",
       "    <tr>\n",
       "      <th>2023-11-30</th>\n",
       "      <td>-0.0166</td>\n",
       "    </tr>\n",
       "  </tbody>\n",
       "</table>\n",
       "</div>"
      ],
      "text/plain": [
       "            Tnote rate, Tnote rate change\n",
       "date                                     \n",
       "2023-07-31                         0.0755\n",
       "2023-08-31                         0.0128\n",
       "2023-09-30                         0.0383\n",
       "2023-10-31                        -0.0365\n",
       "2023-11-30                        -0.0166"
      ]
     },
     "metadata": {},
     "output_type": "display_data"
    }
   ],
   "source": [
    "strategy_rets = lagged_results['strategy_rets']\n",
    "display(strategy_rets.head())\n",
    "display(strategy_rets.tail())"
   ]
  },
  {
   "cell_type": "markdown",
   "id": "4a8feaf9-93df-4209-af25-1d57c31d92fd",
   "metadata": {},
   "source": [
    "### 3.\n",
    "\n",
    "Calculate the following (annualized) performance metrics for both the passive investment, $r^\\targ$, as well as the strategy implemented in the previous problem, $r^x$.\n",
    "\n",
    "* mean\n",
    "* volatility\n",
    "* max drawdown\n",
    "\n",
    "**Remember to annualize mean and volatility for monthly data.** (No need to annualize max drawdown.)"
   ]
  },
  {
   "cell_type": "markdown",
   "id": "6418a068",
   "metadata": {},
   "source": [
    "**Interpretation:** For USO, calculate from 05-31-2009, while the strategy only has returns from 06-30-2009 onwards, so the timeframes are slightly different."
   ]
  },
  {
   "cell_type": "code",
   "execution_count": 18,
   "id": "96e1e2b4",
   "metadata": {},
   "outputs": [
    {
     "data": {
      "text/html": [
       "<div>\n",
       "<style scoped>\n",
       "    .dataframe tbody tr th:only-of-type {\n",
       "        vertical-align: middle;\n",
       "    }\n",
       "\n",
       "    .dataframe tbody tr th {\n",
       "        vertical-align: top;\n",
       "    }\n",
       "\n",
       "    .dataframe thead th {\n",
       "        text-align: right;\n",
       "    }\n",
       "</style>\n",
       "<table border=\"1\" class=\"dataframe\">\n",
       "  <thead>\n",
       "    <tr style=\"text-align: right;\">\n",
       "      <th></th>\n",
       "      <th>Annualized Return</th>\n",
       "      <th>Annualized Volatility</th>\n",
       "      <th>Annualized Sharpe Ratio</th>\n",
       "      <th>Max Drawdown</th>\n",
       "    </tr>\n",
       "  </thead>\n",
       "  <tbody>\n",
       "    <tr>\n",
       "      <th>USO</th>\n",
       "      <td>-0.0042</td>\n",
       "      <td>0.3626</td>\n",
       "      <td>-0.0116</td>\n",
       "      <td>-0.9471</td>\n",
       "    </tr>\n",
       "  </tbody>\n",
       "</table>\n",
       "</div>"
      ],
      "text/plain": [
       "     Annualized Return  Annualized Volatility  Annualized Sharpe Ratio  \\\n",
       "USO            -0.0042                 0.3626                  -0.0116   \n",
       "\n",
       "     Max Drawdown  \n",
       "USO       -0.9471  "
      ]
     },
     "execution_count": 18,
     "metadata": {},
     "output_type": "execute_result"
    }
   ],
   "source": [
    "calc_performance_metrics(forecasting[['USO']], adj = 12)[['Annualized Return', 'Annualized Volatility', 'Annualized Sharpe Ratio', 'Max Drawdown']]"
   ]
  },
  {
   "cell_type": "code",
   "execution_count": 19,
   "id": "ee653ed4",
   "metadata": {},
   "outputs": [
    {
     "data": {
      "text/html": [
       "<div>\n",
       "<style scoped>\n",
       "    .dataframe tbody tr th:only-of-type {\n",
       "        vertical-align: middle;\n",
       "    }\n",
       "\n",
       "    .dataframe tbody tr th {\n",
       "        vertical-align: top;\n",
       "    }\n",
       "\n",
       "    .dataframe thead th {\n",
       "        text-align: right;\n",
       "    }\n",
       "</style>\n",
       "<table border=\"1\" class=\"dataframe\">\n",
       "  <thead>\n",
       "    <tr style=\"text-align: right;\">\n",
       "      <th></th>\n",
       "      <th>Annualized Return</th>\n",
       "      <th>Annualized Volatility</th>\n",
       "      <th>Annualized Sharpe Ratio</th>\n",
       "      <th>Max Drawdown</th>\n",
       "    </tr>\n",
       "  </thead>\n",
       "  <tbody>\n",
       "    <tr>\n",
       "      <th>Tnote rate, Tnote rate change</th>\n",
       "      <td>-0.0097</td>\n",
       "      <td>0.1773</td>\n",
       "      <td>-0.0546</td>\n",
       "      <td>-0.7065</td>\n",
       "    </tr>\n",
       "  </tbody>\n",
       "</table>\n",
       "</div>"
      ],
      "text/plain": [
       "                               Annualized Return  Annualized Volatility  \\\n",
       "Tnote rate, Tnote rate change            -0.0097                 0.1773   \n",
       "\n",
       "                               Annualized Sharpe Ratio  Max Drawdown  \n",
       "Tnote rate, Tnote rate change                  -0.0546       -0.7065  "
      ]
     },
     "execution_count": 19,
     "metadata": {},
     "output_type": "execute_result"
    }
   ],
   "source": [
    "calc_performance_metrics(strategy_rets, adj = 12)[['Annualized Return', 'Annualized Volatility', 'Annualized Sharpe Ratio', 'Max Drawdown']]"
   ]
  },
  {
   "cell_type": "markdown",
   "id": "2b2105e3-4ed2-4cea-8842-20821f86b970",
   "metadata": {},
   "source": [
    "### 4.\n",
    "\n",
    "Comment on whether the active strategy (using forecasting), $r^z$ is an improvement on the passive strategy of just holding $\\targ$ directly."
   ]
  },
  {
   "cell_type": "markdown",
   "id": "07a3076d",
   "metadata": {},
   "source": [
    "The active strategy has less vol but even more negative mean, which results in a worse off Sharpe (-0.05 < -0.01). So it is not really an improvement over the passive strategy. One good thing though is that it has better max drawdown."
   ]
  }
 ],
 "metadata": {
  "hide_input": false,
  "kernelspec": {
   "display_name": "Python 3 (ipykernel)",
   "language": "python",
   "name": "python3"
  },
  "language_info": {
   "codemirror_mode": {
    "name": "ipython",
    "version": 3
   },
   "file_extension": ".py",
   "mimetype": "text/x-python",
   "name": "python",
   "nbconvert_exporter": "python",
   "pygments_lexer": "ipython3",
   "version": "3.8.18"
  }
 },
 "nbformat": 4,
 "nbformat_minor": 5
}
