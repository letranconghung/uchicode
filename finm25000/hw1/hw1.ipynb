{
 "cells": [
  {
   "cell_type": "markdown",
   "metadata": {},
   "source": [
    "# 0. Importing data"
   ]
  },
  {
   "cell_type": "code",
   "execution_count": 1,
   "metadata": {},
   "outputs": [],
   "source": [
    "import numpy as np\n",
    "import pandas as pd\n",
    "import datetime\n",
    "import matplotlib.pyplot as plt\n",
    "import seaborn as sns\n",
    "plt.rcParams['figure.figsize'] = (12,6)\n",
    "plt.rcParams['font.size'] = 15\n",
    "plt.rcParams['legend.fontsize'] = 13"
   ]
  },
  {
   "cell_type": "code",
   "execution_count": 2,
   "metadata": {},
   "outputs": [],
   "source": [
    "df = pd.read_excel('./multi_asset_etf_data.xlsx', sheet_name='excess returns')"
   ]
  },
  {
   "cell_type": "code",
   "execution_count": 3,
   "metadata": {},
   "outputs": [
    {
     "data": {
      "text/html": [
       "<div>\n",
       "<style scoped>\n",
       "    .dataframe tbody tr th:only-of-type {\n",
       "        vertical-align: middle;\n",
       "    }\n",
       "\n",
       "    .dataframe tbody tr th {\n",
       "        vertical-align: top;\n",
       "    }\n",
       "\n",
       "    .dataframe thead th {\n",
       "        text-align: right;\n",
       "    }\n",
       "</style>\n",
       "<table border=\"1\" class=\"dataframe\">\n",
       "  <thead>\n",
       "    <tr style=\"text-align: right;\">\n",
       "      <th></th>\n",
       "      <th>Date</th>\n",
       "      <th>BWX</th>\n",
       "      <th>DBC</th>\n",
       "      <th>EEM</th>\n",
       "      <th>EFA</th>\n",
       "      <th>HYG</th>\n",
       "      <th>IEF</th>\n",
       "      <th>IYR</th>\n",
       "      <th>PSP</th>\n",
       "      <th>QAI</th>\n",
       "      <th>SPY</th>\n",
       "      <th>TIP</th>\n",
       "    </tr>\n",
       "  </thead>\n",
       "  <tbody>\n",
       "    <tr>\n",
       "      <th>0</th>\n",
       "      <td>2009-04-30</td>\n",
       "      <td>0.008440</td>\n",
       "      <td>-0.001554</td>\n",
       "      <td>0.155029</td>\n",
       "      <td>0.114637</td>\n",
       "      <td>0.137906</td>\n",
       "      <td>-0.028005</td>\n",
       "      <td>0.295598</td>\n",
       "      <td>0.229649</td>\n",
       "      <td>0.022329</td>\n",
       "      <td>0.098793</td>\n",
       "      <td>-0.018505</td>\n",
       "    </tr>\n",
       "    <tr>\n",
       "      <th>1</th>\n",
       "      <td>2009-05-31</td>\n",
       "      <td>0.054143</td>\n",
       "      <td>0.163134</td>\n",
       "      <td>0.159871</td>\n",
       "      <td>0.132390</td>\n",
       "      <td>0.029026</td>\n",
       "      <td>-0.020302</td>\n",
       "      <td>0.023198</td>\n",
       "      <td>0.054364</td>\n",
       "      <td>0.028337</td>\n",
       "      <td>0.058925</td>\n",
       "      <td>0.020438</td>\n",
       "    </tr>\n",
       "    <tr>\n",
       "      <th>2</th>\n",
       "      <td>2009-06-30</td>\n",
       "      <td>0.004550</td>\n",
       "      <td>-0.026858</td>\n",
       "      <td>-0.023093</td>\n",
       "      <td>-0.014648</td>\n",
       "      <td>0.032919</td>\n",
       "      <td>-0.006170</td>\n",
       "      <td>-0.025461</td>\n",
       "      <td>0.044850</td>\n",
       "      <td>-0.004035</td>\n",
       "      <td>-0.001253</td>\n",
       "      <td>0.001383</td>\n",
       "    </tr>\n",
       "    <tr>\n",
       "      <th>3</th>\n",
       "      <td>2009-07-31</td>\n",
       "      <td>0.031311</td>\n",
       "      <td>0.018594</td>\n",
       "      <td>0.110173</td>\n",
       "      <td>0.100441</td>\n",
       "      <td>0.069217</td>\n",
       "      <td>0.008344</td>\n",
       "      <td>0.105826</td>\n",
       "      <td>0.143275</td>\n",
       "      <td>0.015352</td>\n",
       "      <td>0.074632</td>\n",
       "      <td>0.000905</td>\n",
       "    </tr>\n",
       "    <tr>\n",
       "      <th>4</th>\n",
       "      <td>2009-08-31</td>\n",
       "      <td>0.007192</td>\n",
       "      <td>-0.040800</td>\n",
       "      <td>-0.013571</td>\n",
       "      <td>0.044595</td>\n",
       "      <td>-0.017405</td>\n",
       "      <td>0.007199</td>\n",
       "      <td>0.131503</td>\n",
       "      <td>0.032977</td>\n",
       "      <td>-0.004586</td>\n",
       "      <td>0.036504</td>\n",
       "      <td>0.007978</td>\n",
       "    </tr>\n",
       "  </tbody>\n",
       "</table>\n",
       "</div>"
      ],
      "text/plain": [
       "        Date       BWX       DBC       EEM       EFA       HYG       IEF  \\\n",
       "0 2009-04-30  0.008440 -0.001554  0.155029  0.114637  0.137906 -0.028005   \n",
       "1 2009-05-31  0.054143  0.163134  0.159871  0.132390  0.029026 -0.020302   \n",
       "2 2009-06-30  0.004550 -0.026858 -0.023093 -0.014648  0.032919 -0.006170   \n",
       "3 2009-07-31  0.031311  0.018594  0.110173  0.100441  0.069217  0.008344   \n",
       "4 2009-08-31  0.007192 -0.040800 -0.013571  0.044595 -0.017405  0.007199   \n",
       "\n",
       "        IYR       PSP       QAI       SPY       TIP  \n",
       "0  0.295598  0.229649  0.022329  0.098793 -0.018505  \n",
       "1  0.023198  0.054364  0.028337  0.058925  0.020438  \n",
       "2 -0.025461  0.044850 -0.004035 -0.001253  0.001383  \n",
       "3  0.105826  0.143275  0.015352  0.074632  0.000905  \n",
       "4  0.131503  0.032977 -0.004586  0.036504  0.007978  "
      ]
     },
     "execution_count": 3,
     "metadata": {},
     "output_type": "execute_result"
    }
   ],
   "source": [
    "df.head()"
   ]
  },
  {
   "cell_type": "code",
   "execution_count": 4,
   "metadata": {},
   "outputs": [],
   "source": [
    "df = df.drop('Date', axis=1)"
   ]
  },
  {
   "cell_type": "markdown",
   "metadata": {},
   "source": [
    "# 1. Summary Statistics"
   ]
  },
  {
   "cell_type": "markdown",
   "metadata": {},
   "source": [
    "## (a) Calculate and display the mean and volatility of each asset’s excess return. (Recall we use volatility to refer to standard deviation.)"
   ]
  },
  {
   "cell_type": "code",
   "execution_count": 5,
   "metadata": {},
   "outputs": [],
   "source": [
    "rets = df.mean()\n",
    "vols = df.std()"
   ]
  },
  {
   "cell_type": "code",
   "execution_count": 6,
   "metadata": {},
   "outputs": [
    {
     "data": {
      "text/html": [
       "<div>\n",
       "<style scoped>\n",
       "    .dataframe tbody tr th:only-of-type {\n",
       "        vertical-align: middle;\n",
       "    }\n",
       "\n",
       "    .dataframe tbody tr th {\n",
       "        vertical-align: top;\n",
       "    }\n",
       "\n",
       "    .dataframe thead th {\n",
       "        text-align: right;\n",
       "    }\n",
       "</style>\n",
       "<table border=\"1\" class=\"dataframe\">\n",
       "  <thead>\n",
       "    <tr style=\"text-align: right;\">\n",
       "      <th></th>\n",
       "      <th>Annualized Ret</th>\n",
       "      <th>Annualized Vol</th>\n",
       "    </tr>\n",
       "  </thead>\n",
       "  <tbody>\n",
       "    <tr>\n",
       "      <th>BWX</th>\n",
       "      <td>-0.004532</td>\n",
       "      <td>0.085384</td>\n",
       "    </tr>\n",
       "    <tr>\n",
       "      <th>DBC</th>\n",
       "      <td>0.021884</td>\n",
       "      <td>0.175468</td>\n",
       "    </tr>\n",
       "    <tr>\n",
       "      <th>EEM</th>\n",
       "      <td>0.064970</td>\n",
       "      <td>0.194206</td>\n",
       "    </tr>\n",
       "    <tr>\n",
       "      <th>EFA</th>\n",
       "      <td>0.083817</td>\n",
       "      <td>0.164818</td>\n",
       "    </tr>\n",
       "    <tr>\n",
       "      <th>HYG</th>\n",
       "      <td>0.062909</td>\n",
       "      <td>0.088292</td>\n",
       "    </tr>\n",
       "    <tr>\n",
       "      <th>IEF</th>\n",
       "      <td>0.011250</td>\n",
       "      <td>0.064291</td>\n",
       "    </tr>\n",
       "    <tr>\n",
       "      <th>IYR</th>\n",
       "      <td>0.122743</td>\n",
       "      <td>0.189811</td>\n",
       "    </tr>\n",
       "    <tr>\n",
       "      <th>PSP</th>\n",
       "      <td>0.134369</td>\n",
       "      <td>0.226988</td>\n",
       "    </tr>\n",
       "    <tr>\n",
       "      <th>QAI</th>\n",
       "      <td>0.019373</td>\n",
       "      <td>0.050940</td>\n",
       "    </tr>\n",
       "    <tr>\n",
       "      <th>SPY</th>\n",
       "      <td>0.145133</td>\n",
       "      <td>0.147890</td>\n",
       "    </tr>\n",
       "    <tr>\n",
       "      <th>TIP</th>\n",
       "      <td>0.020233</td>\n",
       "      <td>0.051752</td>\n",
       "    </tr>\n",
       "  </tbody>\n",
       "</table>\n",
       "</div>"
      ],
      "text/plain": [
       "     Annualized Ret  Annualized Vol\n",
       "BWX       -0.004532        0.085384\n",
       "DBC        0.021884        0.175468\n",
       "EEM        0.064970        0.194206\n",
       "EFA        0.083817        0.164818\n",
       "HYG        0.062909        0.088292\n",
       "IEF        0.011250        0.064291\n",
       "IYR        0.122743        0.189811\n",
       "PSP        0.134369        0.226988\n",
       "QAI        0.019373        0.050940\n",
       "SPY        0.145133        0.147890\n",
       "TIP        0.020233        0.051752"
      ]
     },
     "execution_count": 6,
     "metadata": {},
     "output_type": "execute_result"
    }
   ],
   "source": [
    "ann = pd.concat([rets * 12, vols * np.sqrt(12)], axis = 1, keys = ['Annualized Ret', 'Annualized Vol'])\n",
    "ann"
   ]
  },
  {
   "cell_type": "markdown",
   "metadata": {},
   "source": [
    "## (b) Which assets have the best and worst Sharpe ratios?"
   ]
  },
  {
   "cell_type": "code",
   "execution_count": 7,
   "metadata": {},
   "outputs": [
    {
     "data": {
      "text/html": [
       "<div>\n",
       "<style scoped>\n",
       "    .dataframe tbody tr th:only-of-type {\n",
       "        vertical-align: middle;\n",
       "    }\n",
       "\n",
       "    .dataframe tbody tr th {\n",
       "        vertical-align: top;\n",
       "    }\n",
       "\n",
       "    .dataframe thead th {\n",
       "        text-align: right;\n",
       "    }\n",
       "</style>\n",
       "<table border=\"1\" class=\"dataframe\">\n",
       "  <thead>\n",
       "    <tr style=\"text-align: right;\">\n",
       "      <th></th>\n",
       "      <th>Annualized Ret</th>\n",
       "      <th>Annualized Vol</th>\n",
       "      <th>Annualized Sharpe</th>\n",
       "    </tr>\n",
       "  </thead>\n",
       "  <tbody>\n",
       "    <tr>\n",
       "      <th>BWX</th>\n",
       "      <td>-0.004532</td>\n",
       "      <td>0.085384</td>\n",
       "      <td>-0.053080</td>\n",
       "    </tr>\n",
       "    <tr>\n",
       "      <th>DBC</th>\n",
       "      <td>0.021884</td>\n",
       "      <td>0.175468</td>\n",
       "      <td>0.124717</td>\n",
       "    </tr>\n",
       "    <tr>\n",
       "      <th>IEF</th>\n",
       "      <td>0.011250</td>\n",
       "      <td>0.064291</td>\n",
       "      <td>0.174981</td>\n",
       "    </tr>\n",
       "    <tr>\n",
       "      <th>EEM</th>\n",
       "      <td>0.064970</td>\n",
       "      <td>0.194206</td>\n",
       "      <td>0.334541</td>\n",
       "    </tr>\n",
       "    <tr>\n",
       "      <th>QAI</th>\n",
       "      <td>0.019373</td>\n",
       "      <td>0.050940</td>\n",
       "      <td>0.380306</td>\n",
       "    </tr>\n",
       "    <tr>\n",
       "      <th>TIP</th>\n",
       "      <td>0.020233</td>\n",
       "      <td>0.051752</td>\n",
       "      <td>0.390955</td>\n",
       "    </tr>\n",
       "    <tr>\n",
       "      <th>EFA</th>\n",
       "      <td>0.083817</td>\n",
       "      <td>0.164818</td>\n",
       "      <td>0.508542</td>\n",
       "    </tr>\n",
       "    <tr>\n",
       "      <th>PSP</th>\n",
       "      <td>0.134369</td>\n",
       "      <td>0.226988</td>\n",
       "      <td>0.591964</td>\n",
       "    </tr>\n",
       "    <tr>\n",
       "      <th>IYR</th>\n",
       "      <td>0.122743</td>\n",
       "      <td>0.189811</td>\n",
       "      <td>0.646659</td>\n",
       "    </tr>\n",
       "    <tr>\n",
       "      <th>HYG</th>\n",
       "      <td>0.062909</td>\n",
       "      <td>0.088292</td>\n",
       "      <td>0.712512</td>\n",
       "    </tr>\n",
       "    <tr>\n",
       "      <th>SPY</th>\n",
       "      <td>0.145133</td>\n",
       "      <td>0.147890</td>\n",
       "      <td>0.981357</td>\n",
       "    </tr>\n",
       "  </tbody>\n",
       "</table>\n",
       "</div>"
      ],
      "text/plain": [
       "     Annualized Ret  Annualized Vol  Annualized Sharpe\n",
       "BWX       -0.004532        0.085384          -0.053080\n",
       "DBC        0.021884        0.175468           0.124717\n",
       "IEF        0.011250        0.064291           0.174981\n",
       "EEM        0.064970        0.194206           0.334541\n",
       "QAI        0.019373        0.050940           0.380306\n",
       "TIP        0.020233        0.051752           0.390955\n",
       "EFA        0.083817        0.164818           0.508542\n",
       "PSP        0.134369        0.226988           0.591964\n",
       "IYR        0.122743        0.189811           0.646659\n",
       "HYG        0.062909        0.088292           0.712512\n",
       "SPY        0.145133        0.147890           0.981357"
      ]
     },
     "execution_count": 7,
     "metadata": {},
     "output_type": "execute_result"
    }
   ],
   "source": [
    "ann['Annualized Sharpe'] = ann['Annualized Ret'] / ann['Annualized Vol']\n",
    "ann.sort_values('Annualized Sharpe')"
   ]
  },
  {
   "cell_type": "markdown",
   "metadata": {},
   "source": [
    "So `SPY` has the best Sharpe at 0.98, and `BWX` has the worst Sharpe at -0.05"
   ]
  },
  {
   "cell_type": "markdown",
   "metadata": {},
   "source": [
    "# 2. Descriptive Analysis"
   ]
  },
  {
   "cell_type": "markdown",
   "metadata": {},
   "source": [
    "## (a) Calculate the correlation matrix of the returns. Which pair has the highest correlation? And the lowest?"
   ]
  },
  {
   "cell_type": "code",
   "execution_count": 8,
   "metadata": {},
   "outputs": [
    {
     "data": {
      "text/html": [
       "<div>\n",
       "<style scoped>\n",
       "    .dataframe tbody tr th:only-of-type {\n",
       "        vertical-align: middle;\n",
       "    }\n",
       "\n",
       "    .dataframe tbody tr th {\n",
       "        vertical-align: top;\n",
       "    }\n",
       "\n",
       "    .dataframe thead th {\n",
       "        text-align: right;\n",
       "    }\n",
       "</style>\n",
       "<table border=\"1\" class=\"dataframe\">\n",
       "  <thead>\n",
       "    <tr style=\"text-align: right;\">\n",
       "      <th></th>\n",
       "      <th>BWX</th>\n",
       "      <th>DBC</th>\n",
       "      <th>EEM</th>\n",
       "      <th>EFA</th>\n",
       "      <th>HYG</th>\n",
       "      <th>IEF</th>\n",
       "      <th>IYR</th>\n",
       "      <th>PSP</th>\n",
       "      <th>QAI</th>\n",
       "      <th>SPY</th>\n",
       "      <th>TIP</th>\n",
       "    </tr>\n",
       "  </thead>\n",
       "  <tbody>\n",
       "    <tr>\n",
       "      <th>BWX</th>\n",
       "      <td>1.000000</td>\n",
       "      <td>0.313258</td>\n",
       "      <td>0.647129</td>\n",
       "      <td>0.632233</td>\n",
       "      <td>0.574586</td>\n",
       "      <td>0.483613</td>\n",
       "      <td>0.497961</td>\n",
       "      <td>0.553404</td>\n",
       "      <td>0.680774</td>\n",
       "      <td>0.488523</td>\n",
       "      <td>0.637803</td>\n",
       "    </tr>\n",
       "    <tr>\n",
       "      <th>DBC</th>\n",
       "      <td>0.313258</td>\n",
       "      <td>1.000000</td>\n",
       "      <td>0.548695</td>\n",
       "      <td>0.559622</td>\n",
       "      <td>0.454801</td>\n",
       "      <td>-0.315121</td>\n",
       "      <td>0.289199</td>\n",
       "      <td>0.468025</td>\n",
       "      <td>0.520341</td>\n",
       "      <td>0.483189</td>\n",
       "      <td>0.122723</td>\n",
       "    </tr>\n",
       "    <tr>\n",
       "      <th>EEM</th>\n",
       "      <td>0.647129</td>\n",
       "      <td>0.548695</td>\n",
       "      <td>1.000000</td>\n",
       "      <td>0.852263</td>\n",
       "      <td>0.727496</td>\n",
       "      <td>-0.063252</td>\n",
       "      <td>0.627361</td>\n",
       "      <td>0.784057</td>\n",
       "      <td>0.809325</td>\n",
       "      <td>0.735565</td>\n",
       "      <td>0.313342</td>\n",
       "    </tr>\n",
       "    <tr>\n",
       "      <th>EFA</th>\n",
       "      <td>0.632233</td>\n",
       "      <td>0.559622</td>\n",
       "      <td>0.852263</td>\n",
       "      <td>1.000000</td>\n",
       "      <td>0.776654</td>\n",
       "      <td>-0.071464</td>\n",
       "      <td>0.707384</td>\n",
       "      <td>0.904622</td>\n",
       "      <td>0.858914</td>\n",
       "      <td>0.874924</td>\n",
       "      <td>0.311744</td>\n",
       "    </tr>\n",
       "    <tr>\n",
       "      <th>HYG</th>\n",
       "      <td>0.574586</td>\n",
       "      <td>0.454801</td>\n",
       "      <td>0.727496</td>\n",
       "      <td>0.776654</td>\n",
       "      <td>1.000000</td>\n",
       "      <td>0.046662</td>\n",
       "      <td>0.763390</td>\n",
       "      <td>0.826871</td>\n",
       "      <td>0.773005</td>\n",
       "      <td>0.774027</td>\n",
       "      <td>0.389613</td>\n",
       "    </tr>\n",
       "    <tr>\n",
       "      <th>IEF</th>\n",
       "      <td>0.483613</td>\n",
       "      <td>-0.315121</td>\n",
       "      <td>-0.063252</td>\n",
       "      <td>-0.071464</td>\n",
       "      <td>0.046662</td>\n",
       "      <td>1.000000</td>\n",
       "      <td>0.147228</td>\n",
       "      <td>-0.062593</td>\n",
       "      <td>0.111315</td>\n",
       "      <td>-0.084812</td>\n",
       "      <td>0.725957</td>\n",
       "    </tr>\n",
       "    <tr>\n",
       "      <th>IYR</th>\n",
       "      <td>0.497961</td>\n",
       "      <td>0.289199</td>\n",
       "      <td>0.627361</td>\n",
       "      <td>0.707384</td>\n",
       "      <td>0.763390</td>\n",
       "      <td>0.147228</td>\n",
       "      <td>1.000000</td>\n",
       "      <td>0.770262</td>\n",
       "      <td>0.672907</td>\n",
       "      <td>0.761533</td>\n",
       "      <td>0.429716</td>\n",
       "    </tr>\n",
       "    <tr>\n",
       "      <th>PSP</th>\n",
       "      <td>0.553404</td>\n",
       "      <td>0.468025</td>\n",
       "      <td>0.784057</td>\n",
       "      <td>0.904622</td>\n",
       "      <td>0.826871</td>\n",
       "      <td>-0.062593</td>\n",
       "      <td>0.770262</td>\n",
       "      <td>1.000000</td>\n",
       "      <td>0.846007</td>\n",
       "      <td>0.898974</td>\n",
       "      <td>0.331239</td>\n",
       "    </tr>\n",
       "    <tr>\n",
       "      <th>QAI</th>\n",
       "      <td>0.680774</td>\n",
       "      <td>0.520341</td>\n",
       "      <td>0.809325</td>\n",
       "      <td>0.858914</td>\n",
       "      <td>0.773005</td>\n",
       "      <td>0.111315</td>\n",
       "      <td>0.672907</td>\n",
       "      <td>0.846007</td>\n",
       "      <td>1.000000</td>\n",
       "      <td>0.846063</td>\n",
       "      <td>0.477704</td>\n",
       "    </tr>\n",
       "    <tr>\n",
       "      <th>SPY</th>\n",
       "      <td>0.488523</td>\n",
       "      <td>0.483189</td>\n",
       "      <td>0.735565</td>\n",
       "      <td>0.874924</td>\n",
       "      <td>0.774027</td>\n",
       "      <td>-0.084812</td>\n",
       "      <td>0.761533</td>\n",
       "      <td>0.898974</td>\n",
       "      <td>0.846063</td>\n",
       "      <td>1.000000</td>\n",
       "      <td>0.321820</td>\n",
       "    </tr>\n",
       "    <tr>\n",
       "      <th>TIP</th>\n",
       "      <td>0.637803</td>\n",
       "      <td>0.122723</td>\n",
       "      <td>0.313342</td>\n",
       "      <td>0.311744</td>\n",
       "      <td>0.389613</td>\n",
       "      <td>0.725957</td>\n",
       "      <td>0.429716</td>\n",
       "      <td>0.331239</td>\n",
       "      <td>0.477704</td>\n",
       "      <td>0.321820</td>\n",
       "      <td>1.000000</td>\n",
       "    </tr>\n",
       "  </tbody>\n",
       "</table>\n",
       "</div>"
      ],
      "text/plain": [
       "          BWX       DBC       EEM       EFA       HYG       IEF       IYR  \\\n",
       "BWX  1.000000  0.313258  0.647129  0.632233  0.574586  0.483613  0.497961   \n",
       "DBC  0.313258  1.000000  0.548695  0.559622  0.454801 -0.315121  0.289199   \n",
       "EEM  0.647129  0.548695  1.000000  0.852263  0.727496 -0.063252  0.627361   \n",
       "EFA  0.632233  0.559622  0.852263  1.000000  0.776654 -0.071464  0.707384   \n",
       "HYG  0.574586  0.454801  0.727496  0.776654  1.000000  0.046662  0.763390   \n",
       "IEF  0.483613 -0.315121 -0.063252 -0.071464  0.046662  1.000000  0.147228   \n",
       "IYR  0.497961  0.289199  0.627361  0.707384  0.763390  0.147228  1.000000   \n",
       "PSP  0.553404  0.468025  0.784057  0.904622  0.826871 -0.062593  0.770262   \n",
       "QAI  0.680774  0.520341  0.809325  0.858914  0.773005  0.111315  0.672907   \n",
       "SPY  0.488523  0.483189  0.735565  0.874924  0.774027 -0.084812  0.761533   \n",
       "TIP  0.637803  0.122723  0.313342  0.311744  0.389613  0.725957  0.429716   \n",
       "\n",
       "          PSP       QAI       SPY       TIP  \n",
       "BWX  0.553404  0.680774  0.488523  0.637803  \n",
       "DBC  0.468025  0.520341  0.483189  0.122723  \n",
       "EEM  0.784057  0.809325  0.735565  0.313342  \n",
       "EFA  0.904622  0.858914  0.874924  0.311744  \n",
       "HYG  0.826871  0.773005  0.774027  0.389613  \n",
       "IEF -0.062593  0.111315 -0.084812  0.725957  \n",
       "IYR  0.770262  0.672907  0.761533  0.429716  \n",
       "PSP  1.000000  0.846007  0.898974  0.331239  \n",
       "QAI  0.846007  1.000000  0.846063  0.477704  \n",
       "SPY  0.898974  0.846063  1.000000  0.321820  \n",
       "TIP  0.331239  0.477704  0.321820  1.000000  "
      ]
     },
     "execution_count": 8,
     "metadata": {},
     "output_type": "execute_result"
    }
   ],
   "source": [
    "# The correlation matrix\n",
    "df.corr()"
   ]
  },
  {
   "cell_type": "code",
   "execution_count": 9,
   "metadata": {},
   "outputs": [
    {
     "data": {
      "text/plain": [
       "<Axes: >"
      ]
     },
     "execution_count": 9,
     "metadata": {},
     "output_type": "execute_result"
    },
    {
     "data": {
      "image/png": "[encoded data removed]",
      "text/plain": [
       "<Figure size 1200x600 with 2 Axes>"
      ]
     },
     "metadata": {},
     "output_type": "display_data"
    }
   ],
   "source": [
    "# Heatmap of correlation matrix\n",
    "sns.heatmap(df.corr(), annot=True)"
   ]
  },
  {
   "cell_type": "markdown",
   "metadata": {},
   "source": [
    "So the pair with the highest correlation is `PSP` and `EFA`"
   ]
  },
  {
   "cell_type": "markdown",
   "metadata": {},
   "source": [
    "## (b) How well have TIPS done in our sample? Have they outperformed domestic bonds? Foreign bonds?"
   ]
  },
  {
   "cell_type": "markdown",
   "metadata": {},
   "source": [
    "`TIP` had an annualized return of 0.02, while domestic bonds `IEF` had an annualized return of 0.01, `BWX` of -0.004, so TIPS have outperformed domestic and foreign bonds based on the return metric.\n",
    "\n",
    "Its annualized Sharpe was also higher, at 0.39, which is higher than `IEF`'s 0.17 and `BWX`'s -0.05."
   ]
  },
  {
   "cell_type": "markdown",
   "metadata": {},
   "source": [
    "## (c) Based on the data, do TIPS seem to expand the investment opportunity set, implying that Harvard should consider them as a separate asset?"
   ]
  },
  {
   "cell_type": "markdown",
   "metadata": {},
   "source": [
    "Not really; even though its performance is great, its correlations with domestic `IEF` and foreign bonds `BWX` are quite high at 0.73 and 0.64."
   ]
  },
  {
   "cell_type": "markdown",
   "metadata": {},
   "source": [
    "# 3. The MV frontier."
   ]
  },
  {
   "cell_type": "code",
   "execution_count": 10,
   "metadata": {},
   "outputs": [],
   "source": [
    "# Credit: taken from solution for 2023\n",
    "def performance_summary(rets, adj_factor=12):\n",
    "    # Here, we use the keyword argument adj_factor to adjust the\n",
    "    # annualization factor, which, since in this course we will\n",
    "    # mainly deal with monthly data, is set to 12 by default.\n",
    "\n",
    "    summary = {}\n",
    "    summary[\"Annualized Mean\"] = rets.mean() * adj_factor\n",
    "    summary[\"Annualized Volatility\"] = rets.std() * np.sqrt(adj_factor)\n",
    "    summary[\"Annualized Sharpe Ratio\"] = (\n",
    "        summary[\"Annualized Mean\"] / summary[\"Annualized Volatility\"]\n",
    "    )\n",
    "    return pd.DataFrame(summary, index=rets.columns)"
   ]
  },
  {
   "cell_type": "markdown",
   "metadata": {},
   "source": [
    "## (a) Compute and display the weights of the tangency portfolios: $w^{tan}$"
   ]
  },
  {
   "cell_type": "code",
   "execution_count": 11,
   "metadata": {},
   "outputs": [
    {
     "data": {
      "text/html": [
       "<div>\n",
       "<style scoped>\n",
       "    .dataframe tbody tr th:only-of-type {\n",
       "        vertical-align: middle;\n",
       "    }\n",
       "\n",
       "    .dataframe tbody tr th {\n",
       "        vertical-align: top;\n",
       "    }\n",
       "\n",
       "    .dataframe thead th {\n",
       "        text-align: right;\n",
       "    }\n",
       "</style>\n",
       "<table border=\"1\" class=\"dataframe\">\n",
       "  <thead>\n",
       "    <tr style=\"text-align: right;\">\n",
       "      <th></th>\n",
       "      <th>Tangency Portfolio</th>\n",
       "    </tr>\n",
       "  </thead>\n",
       "  <tbody>\n",
       "    <tr>\n",
       "      <th>QAI</th>\n",
       "      <td>-114.131006</td>\n",
       "    </tr>\n",
       "    <tr>\n",
       "      <th>BWX</th>\n",
       "      <td>-46.264168</td>\n",
       "    </tr>\n",
       "    <tr>\n",
       "      <th>IYR</th>\n",
       "      <td>-12.366143</td>\n",
       "    </tr>\n",
       "    <tr>\n",
       "      <th>PSP</th>\n",
       "      <td>-11.528256</td>\n",
       "    </tr>\n",
       "    <tr>\n",
       "      <th>EFA</th>\n",
       "      <td>0.512125</td>\n",
       "    </tr>\n",
       "    <tr>\n",
       "      <th>DBC</th>\n",
       "      <td>1.701262</td>\n",
       "    </tr>\n",
       "    <tr>\n",
       "      <th>TIP</th>\n",
       "      <td>5.451023</td>\n",
       "    </tr>\n",
       "    <tr>\n",
       "      <th>EEM</th>\n",
       "      <td>10.018155</td>\n",
       "    </tr>\n",
       "    <tr>\n",
       "      <th>HYG</th>\n",
       "      <td>34.746935</td>\n",
       "    </tr>\n",
       "    <tr>\n",
       "      <th>IEF</th>\n",
       "      <td>62.959134</td>\n",
       "    </tr>\n",
       "    <tr>\n",
       "      <th>SPY</th>\n",
       "      <td>69.900939</td>\n",
       "    </tr>\n",
       "  </tbody>\n",
       "</table>\n",
       "</div>"
      ],
      "text/plain": [
       "     Tangency Portfolio\n",
       "QAI         -114.131006\n",
       "BWX          -46.264168\n",
       "IYR          -12.366143\n",
       "PSP          -11.528256\n",
       "EFA            0.512125\n",
       "DBC            1.701262\n",
       "TIP            5.451023\n",
       "EEM           10.018155\n",
       "HYG           34.746935\n",
       "IEF           62.959134\n",
       "SPY           69.900939"
      ]
     },
     "execution_count": 11,
     "metadata": {},
     "output_type": "execute_result"
    }
   ],
   "source": [
    "cov = df.cov()\n",
    "invcov = np.linalg.inv(cov)\n",
    "w_tan = invcov @ rets / (np.ones(len(rets)) @ np.linalg.inv(cov) @ rets)\n",
    "\n",
    "w_tan_df = pd.DataFrame(w_tan, index=df.columns, columns=[\"Tangency Portfolio\"])\n",
    "w_tan_df.sort_values('Tangency Portfolio')"
   ]
  },
  {
   "cell_type": "markdown",
   "metadata": {},
   "source": [
    "## (b) Compute the mean, volatility, and Sharpe ratio for the tangency portfolio corresponding to $w^{tan}$."
   ]
  },
  {
   "cell_type": "code",
   "execution_count": 12,
   "metadata": {},
   "outputs": [
    {
     "data": {
      "text/html": [
       "<div>\n",
       "<style scoped>\n",
       "    .dataframe tbody tr th:only-of-type {\n",
       "        vertical-align: middle;\n",
       "    }\n",
       "\n",
       "    .dataframe tbody tr th {\n",
       "        vertical-align: top;\n",
       "    }\n",
       "\n",
       "    .dataframe thead th {\n",
       "        text-align: right;\n",
       "    }\n",
       "</style>\n",
       "<table border=\"1\" class=\"dataframe\">\n",
       "  <thead>\n",
       "    <tr style=\"text-align: right;\">\n",
       "      <th></th>\n",
       "      <th>Annualized Mean</th>\n",
       "      <th>Annualized Volatility</th>\n",
       "      <th>Annualized Sharpe Ratio</th>\n",
       "    </tr>\n",
       "  </thead>\n",
       "  <tbody>\n",
       "    <tr>\n",
       "      <th>Tangency Portfolio</th>\n",
       "      <td>8.812157</td>\n",
       "      <td>5.293389</td>\n",
       "      <td>1.664748</td>\n",
       "    </tr>\n",
       "  </tbody>\n",
       "</table>\n",
       "</div>"
      ],
      "text/plain": [
       "                    Annualized Mean  Annualized Volatility  \\\n",
       "Tangency Portfolio         8.812157               5.293389   \n",
       "\n",
       "                    Annualized Sharpe Ratio  \n",
       "Tangency Portfolio                 1.664748  "
      ]
     },
     "execution_count": 12,
     "metadata": {},
     "output_type": "execute_result"
    }
   ],
   "source": [
    "performance_summary(df @ w_tan_df)"
   ]
  },
  {
   "cell_type": "markdown",
   "metadata": {},
   "source": [
    "# 4. The allocation"
   ]
  },
  {
   "cell_type": "markdown",
   "metadata": {},
   "source": [
    "## (a) Compute and display the weights of MV portfolios with target returns of $\\mu_p$ = .0075."
   ]
  },
  {
   "cell_type": "code",
   "execution_count": 13,
   "metadata": {},
   "outputs": [
    {
     "name": "stdout",
     "output_type": "stream",
     "text": [
      "Weight w_p with target returns 0.0075 is\n"
     ]
    },
    {
     "data": {
      "text/html": [
       "<div>\n",
       "<style scoped>\n",
       "    .dataframe tbody tr th:only-of-type {\n",
       "        vertical-align: middle;\n",
       "    }\n",
       "\n",
       "    .dataframe tbody tr th {\n",
       "        vertical-align: top;\n",
       "    }\n",
       "\n",
       "    .dataframe thead th {\n",
       "        text-align: right;\n",
       "    }\n",
       "</style>\n",
       "<table border=\"1\" class=\"dataframe\">\n",
       "  <thead>\n",
       "    <tr style=\"text-align: right;\">\n",
       "      <th></th>\n",
       "      <th>Targeted MV Portfolio</th>\n",
       "    </tr>\n",
       "  </thead>\n",
       "  <tbody>\n",
       "    <tr>\n",
       "      <th>QAI</th>\n",
       "      <td>-1.165639</td>\n",
       "    </tr>\n",
       "    <tr>\n",
       "      <th>BWX</th>\n",
       "      <td>-0.472504</td>\n",
       "    </tr>\n",
       "    <tr>\n",
       "      <th>IYR</th>\n",
       "      <td>-0.126297</td>\n",
       "    </tr>\n",
       "    <tr>\n",
       "      <th>PSP</th>\n",
       "      <td>-0.117740</td>\n",
       "    </tr>\n",
       "    <tr>\n",
       "      <th>EFA</th>\n",
       "      <td>0.005230</td>\n",
       "    </tr>\n",
       "    <tr>\n",
       "      <th>DBC</th>\n",
       "      <td>0.017375</td>\n",
       "    </tr>\n",
       "    <tr>\n",
       "      <th>TIP</th>\n",
       "      <td>0.055672</td>\n",
       "    </tr>\n",
       "    <tr>\n",
       "      <th>EEM</th>\n",
       "      <td>0.102317</td>\n",
       "    </tr>\n",
       "    <tr>\n",
       "      <th>HYG</th>\n",
       "      <td>0.354876</td>\n",
       "    </tr>\n",
       "    <tr>\n",
       "      <th>IEF</th>\n",
       "      <td>0.643012</td>\n",
       "    </tr>\n",
       "    <tr>\n",
       "      <th>SPY</th>\n",
       "      <td>0.713910</td>\n",
       "    </tr>\n",
       "  </tbody>\n",
       "</table>\n",
       "</div>"
      ],
      "text/plain": [
       "     Targeted MV Portfolio\n",
       "QAI              -1.165639\n",
       "BWX              -0.472504\n",
       "IYR              -0.126297\n",
       "PSP              -0.117740\n",
       "EFA               0.005230\n",
       "DBC               0.017375\n",
       "TIP               0.055672\n",
       "EEM               0.102317\n",
       "HYG               0.354876\n",
       "IEF               0.643012\n",
       "SPY               0.713910"
      ]
     },
     "execution_count": 13,
     "metadata": {},
     "output_type": "execute_result"
    }
   ],
   "source": [
    "MU_TARGET = 0.0075\n",
    "scaling = MU_TARGET / (rets @ w_tan)\n",
    "print(f'Weight w_p with target returns 0.0075 is')\n",
    "w_target = w_tan * scaling\n",
    "w_target_df = pd.DataFrame(w_target, index=df.columns, columns=[\"Targeted MV Portfolio\"])\n",
    "w_target_df.sort_values('Targeted MV Portfolio')"
   ]
  },
  {
   "cell_type": "markdown",
   "metadata": {},
   "source": [
    "## (b) What is the mean, volatility, and Sharpe ratio for wp?"
   ]
  },
  {
   "cell_type": "markdown",
   "metadata": {},
   "source": [
    "The targeted monthly mean is 0.0075, so the annualized mean is 0.0075 * 12 = 0.9"
   ]
  },
  {
   "cell_type": "code",
   "execution_count": 16,
   "metadata": {},
   "outputs": [
    {
     "data": {
      "text/html": [
       "<div>\n",
       "<style scoped>\n",
       "    .dataframe tbody tr th:only-of-type {\n",
       "        vertical-align: middle;\n",
       "    }\n",
       "\n",
       "    .dataframe tbody tr th {\n",
       "        vertical-align: top;\n",
       "    }\n",
       "\n",
       "    .dataframe thead th {\n",
       "        text-align: right;\n",
       "    }\n",
       "</style>\n",
       "<table border=\"1\" class=\"dataframe\">\n",
       "  <thead>\n",
       "    <tr style=\"text-align: right;\">\n",
       "      <th></th>\n",
       "      <th>Annualized Mean</th>\n",
       "      <th>Annualized Volatility</th>\n",
       "      <th>Annualized Sharpe Ratio</th>\n",
       "    </tr>\n",
       "  </thead>\n",
       "  <tbody>\n",
       "    <tr>\n",
       "      <th>Targeted MV Portfolio</th>\n",
       "      <td>0.09</td>\n",
       "      <td>0.054062</td>\n",
       "      <td>1.664748</td>\n",
       "    </tr>\n",
       "  </tbody>\n",
       "</table>\n",
       "</div>"
      ],
      "text/plain": [
       "                       Annualized Mean  Annualized Volatility  \\\n",
       "Targeted MV Portfolio             0.09               0.054062   \n",
       "\n",
       "                       Annualized Sharpe Ratio  \n",
       "Targeted MV Portfolio                 1.664748  "
      ]
     },
     "execution_count": 16,
     "metadata": {},
     "output_type": "execute_result"
    }
   ],
   "source": [
    "performance_summary(df @ w_target_df)"
   ]
  },
  {
   "cell_type": "markdown",
   "metadata": {},
   "source": [
    "## (c) Discuss the allocation. In which assets is the portfolio most long? And short?"
   ]
  },
  {
   "cell_type": "markdown",
   "metadata": {},
   "source": [
    "The portfolio is most long in `SPY, IEF, HYG`, and most short in `QAI, BWX, IYR`. In particular, `QAI`'s short position is a lot more significant than `BWX`."
   ]
  },
  {
   "cell_type": "markdown",
   "metadata": {},
   "source": [
    "## (d) Does this line up with which assets have the strongest Sharpe ratios?"
   ]
  },
  {
   "cell_type": "code",
   "execution_count": null,
   "metadata": {},
   "outputs": [
    {
     "data": {
      "text/html": [
       "<div>\n",
       "<style scoped>\n",
       "    .dataframe tbody tr th:only-of-type {\n",
       "        vertical-align: middle;\n",
       "    }\n",
       "\n",
       "    .dataframe tbody tr th {\n",
       "        vertical-align: top;\n",
       "    }\n",
       "\n",
       "    .dataframe thead th {\n",
       "        text-align: right;\n",
       "    }\n",
       "</style>\n",
       "<table border=\"1\" class=\"dataframe\">\n",
       "  <thead>\n",
       "    <tr style=\"text-align: right;\">\n",
       "      <th></th>\n",
       "      <th>Annualized Mean</th>\n",
       "      <th>Annualized Volatility</th>\n",
       "      <th>Annualized Sharpe Ratio</th>\n",
       "    </tr>\n",
       "  </thead>\n",
       "  <tbody>\n",
       "    <tr>\n",
       "      <th>BWX</th>\n",
       "      <td>-0.004532</td>\n",
       "      <td>0.085384</td>\n",
       "      <td>-0.053080</td>\n",
       "    </tr>\n",
       "    <tr>\n",
       "      <th>DBC</th>\n",
       "      <td>0.021884</td>\n",
       "      <td>0.175468</td>\n",
       "      <td>0.124717</td>\n",
       "    </tr>\n",
       "    <tr>\n",
       "      <th>IEF</th>\n",
       "      <td>0.011250</td>\n",
       "      <td>0.064291</td>\n",
       "      <td>0.174981</td>\n",
       "    </tr>\n",
       "    <tr>\n",
       "      <th>EEM</th>\n",
       "      <td>0.064970</td>\n",
       "      <td>0.194206</td>\n",
       "      <td>0.334541</td>\n",
       "    </tr>\n",
       "    <tr>\n",
       "      <th>QAI</th>\n",
       "      <td>0.019373</td>\n",
       "      <td>0.050940</td>\n",
       "      <td>0.380306</td>\n",
       "    </tr>\n",
       "    <tr>\n",
       "      <th>TIP</th>\n",
       "      <td>0.020233</td>\n",
       "      <td>0.051752</td>\n",
       "      <td>0.390955</td>\n",
       "    </tr>\n",
       "    <tr>\n",
       "      <th>EFA</th>\n",
       "      <td>0.083817</td>\n",
       "      <td>0.164818</td>\n",
       "      <td>0.508542</td>\n",
       "    </tr>\n",
       "    <tr>\n",
       "      <th>PSP</th>\n",
       "      <td>0.134369</td>\n",
       "      <td>0.226988</td>\n",
       "      <td>0.591964</td>\n",
       "    </tr>\n",
       "    <tr>\n",
       "      <th>IYR</th>\n",
       "      <td>0.122743</td>\n",
       "      <td>0.189811</td>\n",
       "      <td>0.646659</td>\n",
       "    </tr>\n",
       "    <tr>\n",
       "      <th>HYG</th>\n",
       "      <td>0.062909</td>\n",
       "      <td>0.088292</td>\n",
       "      <td>0.712512</td>\n",
       "    </tr>\n",
       "    <tr>\n",
       "      <th>SPY</th>\n",
       "      <td>0.145133</td>\n",
       "      <td>0.147890</td>\n",
       "      <td>0.981357</td>\n",
       "    </tr>\n",
       "  </tbody>\n",
       "</table>\n",
       "</div>"
      ],
      "text/plain": [
       "     Annualized Mean  Annualized Volatility  Annualized Sharpe Ratio\n",
       "BWX        -0.004532               0.085384                -0.053080\n",
       "DBC         0.021884               0.175468                 0.124717\n",
       "IEF         0.011250               0.064291                 0.174981\n",
       "EEM         0.064970               0.194206                 0.334541\n",
       "QAI         0.019373               0.050940                 0.380306\n",
       "TIP         0.020233               0.051752                 0.390955\n",
       "EFA         0.083817               0.164818                 0.508542\n",
       "PSP         0.134369               0.226988                 0.591964\n",
       "IYR         0.122743               0.189811                 0.646659\n",
       "HYG         0.062909               0.088292                 0.712512\n",
       "SPY         0.145133               0.147890                 0.981357"
      ]
     },
     "execution_count": 84,
     "metadata": {},
     "output_type": "execute_result"
    }
   ],
   "source": [
    "performance_summary(df).sort_values('Annualized Sharpe Ratio')"
   ]
  },
  {
   "cell_type": "markdown",
   "metadata": {},
   "source": [
    "The result partially agrees with the individual annualized Sharpe ratio. In particular, `SPY` and `HYG` have the 2 highest Sharpe ratios, while `BWX` has the lowest Sharpe ratio, with `QAI` and `IYR` at 5th and 3rd worst. The most surprising is `IYR`, which has 3rd highest Sharpe, but our portfolio above shorts it."
   ]
  },
  {
   "cell_type": "markdown",
   "metadata": {},
   "source": [
    "# 5. Simple Portfolios"
   ]
  },
  {
   "cell_type": "markdown",
   "metadata": {},
   "source": [
    "## (a) Calculate the performance of the equally-weighted portfolio over the sample. Rescale the entire weighting vector to have target mean μp = .0075. Report its mean, volatility, and Sharpe ratio."
   ]
  },
  {
   "cell_type": "markdown",
   "metadata": {},
   "source": [
    "The rescaled weighting vector with target mean 0.0075 is"
   ]
  },
  {
   "cell_type": "code",
   "execution_count": 21,
   "metadata": {},
   "outputs": [
    {
     "data": {
      "text/html": [
       "<div>\n",
       "<style scoped>\n",
       "    .dataframe tbody tr th:only-of-type {\n",
       "        vertical-align: middle;\n",
       "    }\n",
       "\n",
       "    .dataframe tbody tr th {\n",
       "        vertical-align: top;\n",
       "    }\n",
       "\n",
       "    .dataframe thead th {\n",
       "        text-align: right;\n",
       "    }\n",
       "</style>\n",
       "<table border=\"1\" class=\"dataframe\">\n",
       "  <thead>\n",
       "    <tr style=\"text-align: right;\">\n",
       "      <th></th>\n",
       "      <th>Equal Weights Portfolio</th>\n",
       "    </tr>\n",
       "  </thead>\n",
       "  <tbody>\n",
       "    <tr>\n",
       "      <th>BWX</th>\n",
       "      <td>0.131936</td>\n",
       "    </tr>\n",
       "    <tr>\n",
       "      <th>DBC</th>\n",
       "      <td>0.131936</td>\n",
       "    </tr>\n",
       "    <tr>\n",
       "      <th>EEM</th>\n",
       "      <td>0.131936</td>\n",
       "    </tr>\n",
       "    <tr>\n",
       "      <th>EFA</th>\n",
       "      <td>0.131936</td>\n",
       "    </tr>\n",
       "    <tr>\n",
       "      <th>HYG</th>\n",
       "      <td>0.131936</td>\n",
       "    </tr>\n",
       "    <tr>\n",
       "      <th>IEF</th>\n",
       "      <td>0.131936</td>\n",
       "    </tr>\n",
       "    <tr>\n",
       "      <th>IYR</th>\n",
       "      <td>0.131936</td>\n",
       "    </tr>\n",
       "    <tr>\n",
       "      <th>PSP</th>\n",
       "      <td>0.131936</td>\n",
       "    </tr>\n",
       "    <tr>\n",
       "      <th>QAI</th>\n",
       "      <td>0.131936</td>\n",
       "    </tr>\n",
       "    <tr>\n",
       "      <th>SPY</th>\n",
       "      <td>0.131936</td>\n",
       "    </tr>\n",
       "    <tr>\n",
       "      <th>TIP</th>\n",
       "      <td>0.131936</td>\n",
       "    </tr>\n",
       "  </tbody>\n",
       "</table>\n",
       "</div>"
      ],
      "text/plain": [
       "     Equal Weights Portfolio\n",
       "BWX                 0.131936\n",
       "DBC                 0.131936\n",
       "EEM                 0.131936\n",
       "EFA                 0.131936\n",
       "HYG                 0.131936\n",
       "IEF                 0.131936\n",
       "IYR                 0.131936\n",
       "PSP                 0.131936\n",
       "QAI                 0.131936\n",
       "SPY                 0.131936\n",
       "TIP                 0.131936"
      ]
     },
     "execution_count": 21,
     "metadata": {},
     "output_type": "execute_result"
    }
   ],
   "source": [
    "w_equal = 0.0075 / np.sum(rets) * np.ones(len(rets))\n",
    "w_equal_df = pd.DataFrame(w_equal, index=df.columns, columns=[\"Equal Weights Portfolio\"])\n",
    "w_equal_df"
   ]
  },
  {
   "cell_type": "markdown",
   "metadata": {},
   "source": [
    "The performance is"
   ]
  },
  {
   "cell_type": "code",
   "execution_count": 22,
   "metadata": {},
   "outputs": [
    {
     "data": {
      "text/html": [
       "<div>\n",
       "<style scoped>\n",
       "    .dataframe tbody tr th:only-of-type {\n",
       "        vertical-align: middle;\n",
       "    }\n",
       "\n",
       "    .dataframe tbody tr th {\n",
       "        vertical-align: top;\n",
       "    }\n",
       "\n",
       "    .dataframe thead th {\n",
       "        text-align: right;\n",
       "    }\n",
       "</style>\n",
       "<table border=\"1\" class=\"dataframe\">\n",
       "  <thead>\n",
       "    <tr style=\"text-align: right;\">\n",
       "      <th></th>\n",
       "      <th>Annualized Mean</th>\n",
       "      <th>Annualized Volatility</th>\n",
       "      <th>Annualized Sharpe Ratio</th>\n",
       "    </tr>\n",
       "  </thead>\n",
       "  <tbody>\n",
       "    <tr>\n",
       "      <th>Equal Weights Portfolio</th>\n",
       "      <td>0.09</td>\n",
       "      <td>0.15107</td>\n",
       "      <td>0.595752</td>\n",
       "    </tr>\n",
       "  </tbody>\n",
       "</table>\n",
       "</div>"
      ],
      "text/plain": [
       "                         Annualized Mean  Annualized Volatility  \\\n",
       "Equal Weights Portfolio             0.09                0.15107   \n",
       "\n",
       "                         Annualized Sharpe Ratio  \n",
       "Equal Weights Portfolio                 0.595752  "
      ]
     },
     "execution_count": 22,
     "metadata": {},
     "output_type": "execute_result"
    }
   ],
   "source": [
    "performance_summary(df @ w_equal_df)"
   ]
  },
  {
   "cell_type": "markdown",
   "metadata": {},
   "source": [
    "## (b) Calculate the performance of the “risk-parity” portfolio over the sample."
   ]
  },
  {
   "cell_type": "code",
   "execution_count": 31,
   "metadata": {},
   "outputs": [
    {
     "data": {
      "text/html": [
       "<div>\n",
       "<style scoped>\n",
       "    .dataframe tbody tr th:only-of-type {\n",
       "        vertical-align: middle;\n",
       "    }\n",
       "\n",
       "    .dataframe tbody tr th {\n",
       "        vertical-align: top;\n",
       "    }\n",
       "\n",
       "    .dataframe thead th {\n",
       "        text-align: right;\n",
       "    }\n",
       "</style>\n",
       "<table border=\"1\" class=\"dataframe\">\n",
       "  <thead>\n",
       "    <tr style=\"text-align: right;\">\n",
       "      <th></th>\n",
       "      <th>Risk-Parity Portfolio</th>\n",
       "    </tr>\n",
       "  </thead>\n",
       "  <tbody>\n",
       "    <tr>\n",
       "      <th>BWX</th>\n",
       "      <td>0.219895</td>\n",
       "    </tr>\n",
       "    <tr>\n",
       "      <th>DBC</th>\n",
       "      <td>0.107003</td>\n",
       "    </tr>\n",
       "    <tr>\n",
       "      <th>EEM</th>\n",
       "      <td>0.096679</td>\n",
       "    </tr>\n",
       "    <tr>\n",
       "      <th>EFA</th>\n",
       "      <td>0.113917</td>\n",
       "    </tr>\n",
       "    <tr>\n",
       "      <th>HYG</th>\n",
       "      <td>0.212652</td>\n",
       "    </tr>\n",
       "    <tr>\n",
       "      <th>IEF</th>\n",
       "      <td>0.292042</td>\n",
       "    </tr>\n",
       "    <tr>\n",
       "      <th>IYR</th>\n",
       "      <td>0.098917</td>\n",
       "    </tr>\n",
       "    <tr>\n",
       "      <th>PSP</th>\n",
       "      <td>0.082716</td>\n",
       "    </tr>\n",
       "    <tr>\n",
       "      <th>QAI</th>\n",
       "      <td>0.368585</td>\n",
       "    </tr>\n",
       "    <tr>\n",
       "      <th>SPY</th>\n",
       "      <td>0.126957</td>\n",
       "    </tr>\n",
       "    <tr>\n",
       "      <th>TIP</th>\n",
       "      <td>0.362798</td>\n",
       "    </tr>\n",
       "  </tbody>\n",
       "</table>\n",
       "</div>"
      ],
      "text/plain": [
       "     Risk-Parity Portfolio\n",
       "BWX               0.219895\n",
       "DBC               0.107003\n",
       "EEM               0.096679\n",
       "EFA               0.113917\n",
       "HYG               0.212652\n",
       "IEF               0.292042\n",
       "IYR               0.098917\n",
       "PSP               0.082716\n",
       "QAI               0.368585\n",
       "SPY               0.126957\n",
       "TIP               0.362798"
      ]
     },
     "execution_count": 31,
     "metadata": {},
     "output_type": "execute_result"
    }
   ],
   "source": [
    "w_rp = 1/vols\n",
    "w_rp *= MU_TARGET / (rets @ w_rp)\n",
    "w_rp_df = pd.DataFrame(w_rp, index=df.columns, columns=[\"Risk-Parity Portfolio\"])\n",
    "w_rp_df"
   ]
  },
  {
   "cell_type": "code",
   "execution_count": 32,
   "metadata": {},
   "outputs": [
    {
     "data": {
      "text/html": [
       "<div>\n",
       "<style scoped>\n",
       "    .dataframe tbody tr th:only-of-type {\n",
       "        vertical-align: middle;\n",
       "    }\n",
       "\n",
       "    .dataframe tbody tr th {\n",
       "        vertical-align: top;\n",
       "    }\n",
       "\n",
       "    .dataframe thead th {\n",
       "        text-align: right;\n",
       "    }\n",
       "</style>\n",
       "<table border=\"1\" class=\"dataframe\">\n",
       "  <thead>\n",
       "    <tr style=\"text-align: right;\">\n",
       "      <th></th>\n",
       "      <th>Annualized Mean</th>\n",
       "      <th>Annualized Volatility</th>\n",
       "      <th>Annualized Sharpe Ratio</th>\n",
       "    </tr>\n",
       "  </thead>\n",
       "  <tbody>\n",
       "    <tr>\n",
       "      <th>Risk-Parity Portfolio</th>\n",
       "      <td>0.09</td>\n",
       "      <td>0.154956</td>\n",
       "      <td>0.580809</td>\n",
       "    </tr>\n",
       "  </tbody>\n",
       "</table>\n",
       "</div>"
      ],
      "text/plain": [
       "                       Annualized Mean  Annualized Volatility  \\\n",
       "Risk-Parity Portfolio             0.09               0.154956   \n",
       "\n",
       "                       Annualized Sharpe Ratio  \n",
       "Risk-Parity Portfolio                 0.580809  "
      ]
     },
     "execution_count": 32,
     "metadata": {},
     "output_type": "execute_result"
    }
   ],
   "source": [
    "performance_summary(df @ w_rp_df)"
   ]
  },
  {
   "cell_type": "markdown",
   "metadata": {},
   "source": [
    "## (c) Compare"
   ]
  },
  {
   "cell_type": "markdown",
   "metadata": {},
   "source": [
    "The weights and performance of the different portfolios are"
   ]
  },
  {
   "cell_type": "code",
   "execution_count": 35,
   "metadata": {},
   "outputs": [
    {
     "data": {
      "text/html": [
       "<div>\n",
       "<style scoped>\n",
       "    .dataframe tbody tr th:only-of-type {\n",
       "        vertical-align: middle;\n",
       "    }\n",
       "\n",
       "    .dataframe tbody tr th {\n",
       "        vertical-align: top;\n",
       "    }\n",
       "\n",
       "    .dataframe thead th {\n",
       "        text-align: right;\n",
       "    }\n",
       "</style>\n",
       "<table border=\"1\" class=\"dataframe\">\n",
       "  <thead>\n",
       "    <tr style=\"text-align: right;\">\n",
       "      <th></th>\n",
       "      <th>Targeted MV Portfolio</th>\n",
       "      <th>Equal Weights Portfolio</th>\n",
       "      <th>Risk-Parity Portfolio</th>\n",
       "    </tr>\n",
       "  </thead>\n",
       "  <tbody>\n",
       "    <tr>\n",
       "      <th>BWX</th>\n",
       "      <td>-0.472504</td>\n",
       "      <td>0.131936</td>\n",
       "      <td>0.219895</td>\n",
       "    </tr>\n",
       "    <tr>\n",
       "      <th>DBC</th>\n",
       "      <td>0.017375</td>\n",
       "      <td>0.131936</td>\n",
       "      <td>0.107003</td>\n",
       "    </tr>\n",
       "    <tr>\n",
       "      <th>EEM</th>\n",
       "      <td>0.102317</td>\n",
       "      <td>0.131936</td>\n",
       "      <td>0.096679</td>\n",
       "    </tr>\n",
       "    <tr>\n",
       "      <th>EFA</th>\n",
       "      <td>0.005230</td>\n",
       "      <td>0.131936</td>\n",
       "      <td>0.113917</td>\n",
       "    </tr>\n",
       "    <tr>\n",
       "      <th>HYG</th>\n",
       "      <td>0.354876</td>\n",
       "      <td>0.131936</td>\n",
       "      <td>0.212652</td>\n",
       "    </tr>\n",
       "    <tr>\n",
       "      <th>IEF</th>\n",
       "      <td>0.643012</td>\n",
       "      <td>0.131936</td>\n",
       "      <td>0.292042</td>\n",
       "    </tr>\n",
       "    <tr>\n",
       "      <th>IYR</th>\n",
       "      <td>-0.126297</td>\n",
       "      <td>0.131936</td>\n",
       "      <td>0.098917</td>\n",
       "    </tr>\n",
       "    <tr>\n",
       "      <th>PSP</th>\n",
       "      <td>-0.117740</td>\n",
       "      <td>0.131936</td>\n",
       "      <td>0.082716</td>\n",
       "    </tr>\n",
       "    <tr>\n",
       "      <th>QAI</th>\n",
       "      <td>-1.165639</td>\n",
       "      <td>0.131936</td>\n",
       "      <td>0.368585</td>\n",
       "    </tr>\n",
       "    <tr>\n",
       "      <th>SPY</th>\n",
       "      <td>0.713910</td>\n",
       "      <td>0.131936</td>\n",
       "      <td>0.126957</td>\n",
       "    </tr>\n",
       "    <tr>\n",
       "      <th>TIP</th>\n",
       "      <td>0.055672</td>\n",
       "      <td>0.131936</td>\n",
       "      <td>0.362798</td>\n",
       "    </tr>\n",
       "  </tbody>\n",
       "</table>\n",
       "</div>"
      ],
      "text/plain": [
       "     Targeted MV Portfolio  Equal Weights Portfolio  Risk-Parity Portfolio\n",
       "BWX              -0.472504                 0.131936               0.219895\n",
       "DBC               0.017375                 0.131936               0.107003\n",
       "EEM               0.102317                 0.131936               0.096679\n",
       "EFA               0.005230                 0.131936               0.113917\n",
       "HYG               0.354876                 0.131936               0.212652\n",
       "IEF               0.643012                 0.131936               0.292042\n",
       "IYR              -0.126297                 0.131936               0.098917\n",
       "PSP              -0.117740                 0.131936               0.082716\n",
       "QAI              -1.165639                 0.131936               0.368585\n",
       "SPY               0.713910                 0.131936               0.126957\n",
       "TIP               0.055672                 0.131936               0.362798"
      ]
     },
     "execution_count": 35,
     "metadata": {},
     "output_type": "execute_result"
    }
   ],
   "source": [
    "pd.concat([w_target_df, w_equal_df, w_rp_df], axis = 1)"
   ]
  },
  {
   "cell_type": "code",
   "execution_count": 42,
   "metadata": {},
   "outputs": [
    {
     "data": {
      "text/html": [
       "<div>\n",
       "<style scoped>\n",
       "    .dataframe tbody tr th:only-of-type {\n",
       "        vertical-align: middle;\n",
       "    }\n",
       "\n",
       "    .dataframe tbody tr th {\n",
       "        vertical-align: top;\n",
       "    }\n",
       "\n",
       "    .dataframe thead th {\n",
       "        text-align: right;\n",
       "    }\n",
       "</style>\n",
       "<table border=\"1\" class=\"dataframe\">\n",
       "  <thead>\n",
       "    <tr style=\"text-align: right;\">\n",
       "      <th></th>\n",
       "      <th>Targeted MV Portfolio</th>\n",
       "      <th>Equal Weights Portfolio</th>\n",
       "      <th>Risk-Parity Portfolio</th>\n",
       "    </tr>\n",
       "  </thead>\n",
       "  <tbody>\n",
       "    <tr>\n",
       "      <th>Annualized Mean</th>\n",
       "      <td>0.090000</td>\n",
       "      <td>0.090000</td>\n",
       "      <td>0.090000</td>\n",
       "    </tr>\n",
       "    <tr>\n",
       "      <th>Annualized Volatility</th>\n",
       "      <td>0.054062</td>\n",
       "      <td>0.151070</td>\n",
       "      <td>0.154956</td>\n",
       "    </tr>\n",
       "    <tr>\n",
       "      <th>Annualized Sharpe Ratio</th>\n",
       "      <td>1.664748</td>\n",
       "      <td>0.595752</td>\n",
       "      <td>0.580809</td>\n",
       "    </tr>\n",
       "  </tbody>\n",
       "</table>\n",
       "</div>"
      ],
      "text/plain": [
       "                         Targeted MV Portfolio  Equal Weights Portfolio  \\\n",
       "Annualized Mean                       0.090000                 0.090000   \n",
       "Annualized Volatility                 0.054062                 0.151070   \n",
       "Annualized Sharpe Ratio               1.664748                 0.595752   \n",
       "\n",
       "                         Risk-Parity Portfolio  \n",
       "Annualized Mean                       0.090000  \n",
       "Annualized Volatility                 0.154956  \n",
       "Annualized Sharpe Ratio               0.580809  "
      ]
     },
     "execution_count": 42,
     "metadata": {},
     "output_type": "execute_result"
    }
   ],
   "source": [
    "pd.concat([performance_summary(df @ w_target_df), performance_summary(df @ w_equal_df), performance_summary(df @ w_rp_df)], axis = 0).T"
   ]
  },
  {
   "cell_type": "markdown",
   "metadata": {},
   "source": [
    "Clearly, the targeted MV portfolio achieves a higher Sharpe than the simpler models, such as equal weights and risk-parity."
   ]
  },
  {
   "cell_type": "markdown",
   "metadata": {},
   "source": [
    "# 6. Assess how much the Sharpe Ratio goes down if we drop TIPS from the investment set, (and just have a 10-asset problem.) See how much it decreases the performance statistics in 2.4. And how much worse is the performance in 3.3?"
   ]
  }
 ],
 "metadata": {
  "kernelspec": {
   "display_name": "Python 3",
   "language": "python",
   "name": "python3"
  },
  "language_info": {
   "codemirror_mode": {
    "name": "ipython",
    "version": 3
   },
   "file_extension": ".py",
   "mimetype": "text/x-python",
   "name": "python",
   "nbconvert_exporter": "python",
   "pygments_lexer": "ipython3",
   "version": "3.8.18"
  }
 },
 "nbformat": 4,
 "nbformat_minor": 2
}
