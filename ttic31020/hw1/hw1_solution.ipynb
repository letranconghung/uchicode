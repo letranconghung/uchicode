{
  "cells": [
    {
      "cell_type": "markdown",
      "metadata": {
        "id": "18c38156"
      },
      "source": [
        "# Homework 1\n",
        "\n",
        "The main goal of this homework is to get you set up and aquinted with our programming and experimentation evinorment, namely Python, Jupiter and NumPy, as well as with working with both synthetic and real data.  We will also learn about, implement, and experiment with, the nearest neighbour learning rule.\n",
        "\n",
        "Throughout the homeworks, we will have programming and experimentation **tasks** as well as some **questions** you will need to answer.\n",
        "- For **tasks**, you will need to either **add code between comments \"`#### TASK N CODE`\"** to complete them or **modify code between those comments**. **DO NOT delete the comments \"#### TASK N CODE\". This is for graders' reference and you might not get full points if you tamper with these comments.**\n",
        "- For **questions**, you will need to answer in a few sentences between the given lines.\n",
        "- For **optional tasks**, you are **NOT required to turn them in**. However, we encourage you to complete them as they are good practice.\n",
        "- For **challenge-optional tasks**, you are **NOT required to turn them in**. However, you will receive extra credit for completing the challenge."
      ],
      "id": "18c38156"
    },
    {
      "cell_type": "markdown",
      "metadata": {
        "id": "e9accc3b"
      },
      "source": [
        "-----\n",
        "\n",
        "## Preparation\n",
        "\n",
        "First, we will install the libraries we will need in this homework.  This should not be necesairy if using Colaboratory or a full Anaconda installation."
      ],
      "id": "e9accc3b"
    },
    {
      "cell_type": "code",
      "execution_count": null,
      "metadata": {
        "colab": {
          "base_uri": "https://localhost:8080/"
        },
        "id": "bf3370a7",
        "outputId": "d517eb1f-bc48-4d19-ea4f-ab9650644e49"
      },
      "outputs": [
        {
          "output_type": "stream",
          "name": "stdout",
          "text": [
            "Requirement already satisfied: matplotlib in /usr/local/lib/python3.10/dist-packages (3.7.1)\n",
            "Requirement already satisfied: numpy in /usr/local/lib/python3.10/dist-packages (1.23.5)\n",
            "Requirement already satisfied: contourpy>=1.0.1 in /usr/local/lib/python3.10/dist-packages (from matplotlib) (1.2.0)\n",
            "Requirement already satisfied: cycler>=0.10 in /usr/local/lib/python3.10/dist-packages (from matplotlib) (0.12.1)\n",
            "Requirement already satisfied: fonttools>=4.22.0 in /usr/local/lib/python3.10/dist-packages (from matplotlib) (4.47.0)\n",
            "Requirement already satisfied: kiwisolver>=1.0.1 in /usr/local/lib/python3.10/dist-packages (from matplotlib) (1.4.5)\n",
            "Requirement already satisfied: packaging>=20.0 in /usr/local/lib/python3.10/dist-packages (from matplotlib) (23.2)\n",
            "Requirement already satisfied: pillow>=6.2.0 in /usr/local/lib/python3.10/dist-packages (from matplotlib) (9.4.0)\n",
            "Requirement already satisfied: pyparsing>=2.3.1 in /usr/local/lib/python3.10/dist-packages (from matplotlib) (3.1.1)\n",
            "Requirement already satisfied: python-dateutil>=2.7 in /usr/local/lib/python3.10/dist-packages (from matplotlib) (2.8.2)\n",
            "Requirement already satisfied: six>=1.5 in /usr/local/lib/python3.10/dist-packages (from python-dateutil>=2.7->matplotlib) (1.16.0)\n"
          ]
        }
      ],
      "source": [
        "!pip install matplotlib numpy"
      ],
      "id": "bf3370a7"
    },
    {
      "cell_type": "markdown",
      "metadata": {
        "id": "43eqhEPIIxTH"
      },
      "source": [
        "Now download *utils.py*, which contains helper functions we defined (you can peek into this module, but are not required to do so and can just use it as a black box):"
      ],
      "id": "43eqhEPIIxTH"
    },
    {
      "cell_type": "code",
      "execution_count": null,
      "metadata": {
        "colab": {
          "base_uri": "https://localhost:8080/"
        },
        "id": "hvdriCFxIzci",
        "outputId": "c8c846cb-39d1-49db-d767-48db0852c317"
      },
      "outputs": [
        {
          "output_type": "stream",
          "name": "stdout",
          "text": [
            "Downloading...\n",
            "From: https://drive.google.com/uc?id=1GnseL1kj-KrMb9WiaDu6M5-dVFIioBWo\n",
            "To: /content/utils.py\n",
            "\r  0% 0.00/4.85k [00:00<?, ?B/s]\r100% 4.85k/4.85k [00:00<00:00, 12.8MB/s]\n"
          ]
        }
      ],
      "source": [
        "!gdown 1GnseL1kj-KrMb9WiaDu6M5-dVFIioBWo"
      ],
      "id": "hvdriCFxIzci"
    },
    {
      "cell_type": "markdown",
      "metadata": {
        "id": "cfc5afb9"
      },
      "source": [
        "Now import the relevant libraries.\n",
        "- `numpy` [[documentation](https://numpy.org/doc/stable/reference/index.html)] is a package of numerical and scientific computing in Python.  Most importantly, it provides a multi-dimensional array object that can be used to represent vectors, matrices and data.  We will use numpy extensively.\n",
        " If you are not yet familiar with numpy, you might want to look at its [[quickstart guide](https://numpy.org/doc/stable/user/quickstart.html)] and/or other tutorials on its use.  As is common, we are naming the imported module by the shortened name `np`.\n",
        "- We will use the (sub)module `matplotlib.pyplot` [[documentation](https://matplotlib.org/stable/index.html)] for plotting and visualization (naming the imported module `plt`).\n",
        "- `typing` is a module to add type annotations in a Python, i.e. specify what type (integers, array, float, etc) each variable should be. Python does not enforce types but `typing` [[documentation](https://docs.python.org/3/library/typing.html)] allows us to add hints which can be used for debugging, documentation and more; e.g., here's [how Dropbox integrated type checking to their Python codebase](https://dropbox.tech/application/our-journey-to-type-checking-4-million-lines-of-python). Although we try to add type hints to make our code easier to understand, this is entirely optional for you--you are not required to add type hints to your code and can ignore ours.  )\n",
        "- `utils` is a module we wrote that contains helper functions we will use ocaisionally in the course, e.g. for generating and plotting data. Feel free to skim through the module."
      ],
      "id": "cfc5afb9"
    },
    {
      "cell_type": "code",
      "execution_count": null,
      "metadata": {
        "id": "a7f61d0d"
      },
      "outputs": [],
      "source": [
        "from typing import Dict, List, Optional, Tuple\n",
        "\n",
        "import numpy as np\n",
        "import matplotlib.pyplot as plt\n",
        "import utils"
      ],
      "id": "a7f61d0d"
    },
    {
      "cell_type": "markdown",
      "metadata": {
        "id": "8d740f13"
      },
      "source": [
        "We will be using Python's random number generating extensively in this homework. A `seed` is used to initialize the generating process, and specifying one at the beginning ensures that the random numbers generated during execution of some code are the same _across_ runs (not that every random number _in a single run_ is the same) when the execution environment is unaltered. This helps with reproducing results when someone uses the code with the same package version installed. Being able to reproduce a scientific result is extremely important to reviewing and verifying the correctness of research work. Here we initialize `numpy`'s random number generator with a seed."
      ],
      "id": "8d740f13"
    },
    {
      "cell_type": "code",
      "execution_count": null,
      "metadata": {
        "id": "c21c5180"
      },
      "outputs": [],
      "source": [
        "seed = 91784073\n",
        "np.random.seed(seed)"
      ],
      "id": "c21c5180"
    },
    {
      "cell_type": "markdown",
      "metadata": {
        "id": "ef6fd245"
      },
      "source": [
        "### Generate Data\n",
        "\n",
        "We will first generate some synthetic data using a function, `generate_spiral_data` from our `utils` module.  "
      ],
      "id": "ef6fd245"
    },
    {
      "cell_type": "code",
      "source": [
        "help(utils.generate_spiral_data)"
      ],
      "metadata": {
        "colab": {
          "base_uri": "https://localhost:8080/"
        },
        "id": "T10Kb1Tk8gzR",
        "outputId": "55e3025d-6075-4e8e-e93a-612c2a8a5919"
      },
      "id": "T10Kb1Tk8gzR",
      "execution_count": null,
      "outputs": [
        {
          "output_type": "stream",
          "name": "stdout",
          "text": [
            "Help on function generate_spiral_data in module utils:\n",
            "\n",
            "generate_spiral_data(m: int, noise_level: float = 0.0, theta_sigma: float = 0.0, r_sigma: float = 0.0) -> Tuple[numpy.ndarray, numpy.ndarray]\n",
            "    Generates m spiral data points from a distribution specified with theta_sigma\n",
            "    and r_sigma. Labels are in {-1, +1}. With probability noise_level,\n",
            "    each label is replaced with a random label.\n",
            "\n"
          ]
        }
      ]
    },
    {
      "cell_type": "markdown",
      "source": [
        "The function draws `m` iid samples from a source distribution over $\\mathbb{R}^2 \\times \\{\\pm 1\\}$ specified by the remaining parameters."
      ],
      "metadata": {
        "id": "2DeRBGhD8rPS"
      },
      "id": "2DeRBGhD8rPS"
    },
    {
      "cell_type": "code",
      "execution_count": null,
      "metadata": {
        "id": "6d6f7fe1"
      },
      "outputs": [],
      "source": [
        "LABELS = [-1, 1]\n",
        "SP_THETA_SIGMA = 0.3\n",
        "SP_R_SIGMA = 0.05\n",
        "NOISE_LEVEL = 0.2\n",
        "\n",
        "m = 1000\n",
        "Xsp, ysp = utils.generate_spiral_data(m, noise_level=NOISE_LEVEL, theta_sigma=SP_THETA_SIGMA, r_sigma=SP_R_SIGMA)"
      ],
      "id": "6d6f7fe1"
    },
    {
      "cell_type": "markdown",
      "source": [
        "Lets see what this distribution looks like!"
      ],
      "metadata": {
        "id": "QuEhBiXv9P5C"
      },
      "id": "QuEhBiXv9P5C"
    },
    {
      "cell_type": "code",
      "execution_count": null,
      "metadata": {
        "id": "e27a35c6"
      },
      "outputs": [],
      "source": [
        "def scatter_plot(X, y, **plot_kwargs):\n",
        "    plt.figure(figsize=(8, 6))\n",
        "    for i, l in enumerate(LABELS):\n",
        "        l_idxs = np.where(y == l)\n",
        "        plt.scatter(X[l_idxs, 0], X[l_idxs, 1], label=l, c=utils.cmap_fg[i], **plot_kwargs)\n",
        "    plt.xlabel('$x_1$') # matplotlib allows basic latex in rendered text!\n",
        "    plt.ylabel('$x_2$')\n",
        "    plt.legend(title='label')"
      ],
      "id": "e27a35c6"
    },
    {
      "cell_type": "code",
      "execution_count": null,
      "metadata": {
        "colab": {
          "base_uri": "https://localhost:8080/",
          "height": 542
        },
        "id": "ee1b7467",
        "outputId": "ff0ade27-2441-42d6-dead-62708f473128"
      },
      "outputs": [
        {
          "output_type": "display_data",
          "data": {
            "text/plain": [
              "<Figure size 800x600 with 1 Axes>"
            ],
            "image/png": "[encoded data removed]"
          },
          "metadata": {}
        }
      ],
      "source": [
        "scatter_plot(Xsp, ysp)"
      ],
      "id": "ee1b7467"
    },
    {
      "cell_type": "markdown",
      "metadata": {
        "id": "5162cb9f"
      },
      "source": [
        "### [Task 1] Split the Dataset into Train and Test Sets\n",
        "\n",
        "When experimenting with machine learning on a data set, it is useful to partition the data set into disjoint *training* and *test* sets.  We can then play the \"game\" of learning using the *training* set, and then predicting the labels of the points in the *test* set.  Reserving a portion of the data as a test set also allows us to estimate the generalization error of a learned predictor before using it or shipping it (more on this in Homework 2).\n",
        "\n",
        "In this assignment, we will use 80% of the data as the training set, and the rest as the test set.  Use the provided function below to generate a random train/test split of the data, defining the parmeter `train_test_ratio` appropriately.\n",
        "\n"
      ],
      "id": "5162cb9f"
    },
    {
      "cell_type": "code",
      "execution_count": null,
      "metadata": {
        "id": "0a7fc2de",
        "colab": {
          "base_uri": "https://localhost:8080/"
        },
        "outputId": "5b576aae-fe19-4b27-d0b6-63ab17f1bf59"
      },
      "outputs": [
        {
          "output_type": "stream",
          "name": "stdout",
          "text": [
            "800 800 200 200\n"
          ]
        }
      ],
      "source": [
        "# The type annotations f(a: t) -> t' mean that input a has type t and f returns something of type t'\n",
        "# Type annotations are optional in python and is mostly to aid in debugging and reading code.\n",
        "# In create_split, X and y are numpy arrays, split_ratio has type float,\n",
        "# and the function returns a tuple of 4 elements, each of which is a numpy array\n",
        "# (possibly of different shapes). Feel free to ignore the types if you find them confusing\n",
        "\n",
        "def create_split(X: np.ndarray, y: np.ndarray, split_ratio: float, seed = 310202024) -> Tuple[np.ndarray, np.ndarray, np.ndarray, np.ndarray]:\n",
        "    '''\n",
        "    Randomly splits (X, y) into sets (X1, y1, X2, y2) such that\n",
        "    (X1, y1) contains split_ratio fraction of the data. Rest goes in (X2, y2).\n",
        "\n",
        "    Args:\n",
        "        X: data features of shape (m, d)\n",
        "        y: data labels of shape (m)\n",
        "        split_ratio: fraction of data to keep in (X1, y1) (must be between 0 and 1)\n",
        "        seed (defaults to the arbirtrary number 31020): a seed to use for the random number generator.\n",
        "        Using a hard coded seed ensures the same split every time the function is called.\n",
        "\n",
        "    Returns:\n",
        "        (X1, y1, X2, y2): each is a numpy array\n",
        "    '''\n",
        "    assert 0. <= split_ratio <= 1.\n",
        "    assert X.shape[0] == len(y)\n",
        "    assert len(y.shape) == 1\n",
        "\n",
        "    m = X.shape[0]\n",
        "    # The following line creates an independent source of psuedo-random numbers, which doesn't\n",
        "    # affect subequent number generation that won't use the created rng.  We use this so that we\n",
        "    # can get consistent splits in this routine, by using a fixed seed, without making subsequent\n",
        "    # random numbers also be the same on each execution.\n",
        "    rng = np.random.default_rng(seed)\n",
        "    idxs_shuffled = rng.permutation(m)\n",
        "    X_shuffled, y_shuffled = X[idxs_shuffled], y[idxs_shuffled]\n",
        "\n",
        "    m1 = int(split_ratio * m)\n",
        "    X1, y1 = X_shuffled[:m1], y_shuffled[:m1]\n",
        "    X2, y2 = X_shuffled[m1:], y_shuffled[m1:]\n",
        "\n",
        "    return (X1, y1, X2, y2)\n",
        "\n",
        "#### TASK 1 CODE\n",
        "train_test_ratio = 0.8\n",
        "#### TASK 1 CODE\n",
        "\n",
        "Xsp_train, ysp_train, Xsp_test, ysp_test = create_split(Xsp, ysp, train_test_ratio)\n",
        "\n",
        "print(len(Xsp_train),len(ysp_train),len(Xsp_test),len(ysp_test))"
      ],
      "id": "0a7fc2de"
    },
    {
      "cell_type": "markdown",
      "metadata": {
        "id": "Q4qnMZJ8MKwU"
      },
      "source": [
        "## Nearest-Neighbor Predictor\n",
        "\n",
        "Now we will implement a Nearest Neighbor predictor using the Euclidean distance between points as a distance measure.  That is, the predict label for a point `x`, is the label of the point closest (in Euclidean distance) to `x` in the training set.\n",
        "\n",
        "**There is a minor bug in the implementation! You should correct it in this task and say what it was at the end of the code cell.** We also provide a function to calculate the decision boundary of a predictor, which can be helpful in debugging.\n",
        "\n",
        "To predict the label for a test point, we will need to calculate its distance to each of the training points. Since our data is expressed as vectors and vector/matrix operations are optimized under-the-hood with `numpy` functions, we will favor using matrix operations over loops to predict for $n$ test points. Here is an algorithm for making predictions test set $\\mathbf{X} \\in \\mathbb{R}^{n \\times d}$ using a training set $\\mathbf{Z} \\in \\mathbb{R}^{m \\times d}$ for $d$-dimensional data:\n",
        "\n",
        "1. Calculate distance of each test point $x_i$ from each training point $z_j$. This distance is $d_{ij} = \\lVert x_i - z_j \\rVert_2$. Consider expanding the expression as\n",
        "$$\n",
        "d_{ij}^2 = \\left( x_i - z_j \\right)^\\top \\left( x_i - z_j \\right) = x_i^\\top x_i + z_j^\\top z_j - 2 x_i^\\top z_j = s_{ij} + r_{ij} - 2 g_{ij}\n",
        "$$\n",
        "Thus, to get the squared-distance matrix $\\mathbf{D}^2 \\in \\mathbb{R}^{n \\times m}$ with elements $d_{ij}^2$, we will create matrices $\\mathbf{S}, \\mathbf{R}, \\mathbf{G}$ such that $s_{ij} = x_i^\\top x_i, r_{ij} = z_j^\\top z_j, g_{ij} = x_i^\\top z_j$ (mind the indices).\n",
        "2. Find the indices of the nearest training points for each test point $x_i, \\forall i \\in [n]$.\n",
        "3. Map the indices of the training data to training labels.\n",
        "\n",
        "We will use a consitent interface for learning rules and predictors throughout the course.  Learning rules are objects with the method `fit` which take as input the training set and update the object to be the learned predictors (this is where training happens), and a method `predict` which takes as input (test) points and returns their predicted labels.  In our case, there is not much happening during training time: we just memorize the training set by saving it into the object.  All the action happens at test-time in the method `predict`.  For most learning rules we'll see later on, most of the action happens at training time, inside `fit`."
      ],
      "id": "Q4qnMZJ8MKwU"
    },
    {
      "cell_type": "markdown",
      "source": [
        "### [Task 2] Fix the bug in the Nearest-Neighbor predictor"
      ],
      "metadata": {
        "id": "DtT9nujZ17Zm"
      },
      "id": "DtT9nujZ17Zm"
    },
    {
      "cell_type": "code",
      "execution_count": null,
      "metadata": {
        "id": "7cCW2HR66WS4"
      },
      "outputs": [],
      "source": [
        "from scipy import stats\n",
        "\n",
        "#### TASK 2 CODE: Correct the bug in the code above and add a comment here briefly indicating the fix\n",
        "class NearestNeighborPredictor:\n",
        "    '''\n",
        "    Use as:\n",
        "        ```\n",
        "        nn_clf = NearestNeighborPredictor() # Nearest neighbor predictor\n",
        "        nn_clf.fit(X_train, y_train)\n",
        "        y_test_predict = nn_clf.predict(X_test)\n",
        "        ```\n",
        "    '''\n",
        "    def __init__(self):\n",
        "        # Need to save the training points for prediction\n",
        "        self.X_train = None\n",
        "        self.y_train = None\n",
        "\n",
        "    def fit(self, X: np.ndarray, y: np.ndarray):\n",
        "        '''\n",
        "        Trains a Nearest Neighbor predictor on training data (X, y).\n",
        "\n",
        "        Args:\n",
        "            X: data features\n",
        "            y: data labels\n",
        "        '''\n",
        "        # Save the training points; to be used during prediction\n",
        "        self.X_train = X\n",
        "        self.y_train = y\n",
        "\n",
        "    def predict(self, X: np.ndarray) -> np.ndarray:\n",
        "        '''\n",
        "        Predicts the labels for data X using the trained predictor.\n",
        "\n",
        "        Args:\n",
        "            X: data features\n",
        "\n",
        "        Returns:\n",
        "            y: labels, same number as the data points\n",
        "        '''\n",
        "        assert (self.X_train is not None) and (self.y_train is not None), '1NN not trained!'\n",
        "        n_test = len(X)\n",
        "        n_train = len(self.X_train)\n",
        "\n",
        "        # x_i^T x_i is the dot product of x_i with itself; can be calculated by\n",
        "        # squaring each x_{ij} and summing over j dimensions\n",
        "        S = np.sum(X**2, axis=1) # shape (n_test)\n",
        "\n",
        "        # Similarly calculate z_j^T z_j for the R matrix\n",
        "        R = np.sum(self.X_train**2, axis=1) # shape (n_train)\n",
        "\n",
        "        # x_i^T z_j is the inner product between matrices X and Z, giving\n",
        "        # G_{ij}\n",
        "        G = X @ self.X_train.T # shape (n_test, n_train)\n",
        "\n",
        "        # Use broadcasting to calculate D2. Reference: https://numpy.org/doc/stable/user/basics.broadcasting.html\n",
        "        # Need to replicate S_i n_train times along the column dimension\n",
        "        # and replicate R_j n_test times along the row dimension before adding them\n",
        "        # to get S_{ij} = x_i^T x_i and R_{ij} = z_j^T z_j. These can then be added to get D2\n",
        "        # With broadcasting, we can do this by adding a placeholder column axis\n",
        "        # to S and placeholder row axis to R before adding them.\n",
        "        D2 = S[:, np.newaxis] + R[np.newaxis, :] - 2 * G\n",
        "\n",
        "        # Now get the index of the nearest training point\n",
        "        # np.argsort returns the indices for sorting a matrix's elements along an axis\n",
        "        # in ascending order; pick the nearest neighbor\n",
        "        one_nearest = np.argsort(D2, axis=1)[:, :1] # shape (n_test, 1)\n",
        "\n",
        "        # Map the training indices to labels\n",
        "        y = self.y_train[one_nearest] # shape (n_test, 1)\n",
        "\n",
        "        return y.squeeze()\n",
        "\n",
        "#### TASK 2 CODE: Correct the bug in the code above and add a comment here briefly indicating the fix\n",
        "#### The bug and correction:"
      ],
      "id": "7cCW2HR66WS4"
    },
    {
      "cell_type": "code",
      "execution_count": null,
      "metadata": {
        "id": "bfr02o-t6tVD"
      },
      "outputs": [],
      "source": [
        "nn_clf = NearestNeighborPredictor()\n",
        "nn_clf.fit(Xsp_train, ysp_train)"
      ],
      "id": "bfr02o-t6tVD"
    },
    {
      "cell_type": "markdown",
      "metadata": {
        "id": "90308701"
      },
      "source": [
        "### Decision Boundaries\n",
        "As discussed in Chapter 19 of [UML], classifiers have decision boundaries in the feature space. A classifier divides the feature space into pockets of labels&mdash;we can visualize these pockets by coloring them.\n",
        "\n",
        "For the spiral data with only two features (coordinates $x_1, x_2$), we can predict the label for each point in the 2d plane and determine where the decisions of a classifier change. We provide you with a helper function `plot_decision_boundary` in the `utils` module, using which we can visualize this neatly. We also plot the training points and the test points. We label the training points with their true labels (a classifier with non-zero training error will get wrong labels!), and clearly show which test points the given classifier gets correct and incorrect.\n",
        "\n",
        "Decision boundaries are extremely useful in understanding where a classifier is making mistakes."
      ],
      "id": "90308701"
    },
    {
      "cell_type": "code",
      "execution_count": null,
      "metadata": {
        "colab": {
          "base_uri": "https://localhost:8080/",
          "height": 585
        },
        "id": "0b58bd7f",
        "outputId": "6d7ede15-a350-4520-a4fa-8a2e0d46c171"
      },
      "outputs": [
        {
          "output_type": "display_data",
          "data": {
            "text/plain": [
              "<Figure size 800x600 with 1 Axes>"
            ],
            "image/png": "[encoded data removed]"
          },
          "metadata": {}
        }
      ],
      "source": [
        "utils.plot_decision_boundary(nn_clf, Xsp_train, ysp_train, Xsp_test, ysp_test)"
      ],
      "id": "0b58bd7f"
    },
    {
      "cell_type": "markdown",
      "metadata": {
        "id": "870bb20f"
      },
      "source": [
        "### [Task 3] Calculate the Train and Test Errors\n",
        "\n",
        "Next, you will implement the function `empirical_err` to calculate the empirical error of a trained classifier. We will train a Nearest Neighbor using the class above on spiral data and use your implementation of `empirical_err` to get the train error. Recall that the empirical error $L_S (h)$ of a predictor $h$ on a sample $S = \\left\\{ \\left( x_1, y_1 \\right), \\dots, \\left( x_m, y_m \\right) \\right\\}$ of $m$ data points is given by:\n",
        "$$\n",
        "L_S (h) = \\frac{\\left| \\left\\{ i \\in [m] : h \\left( x_i \\right) \\neq y_i \\right\\} \\right|}{m} = \\frac{1}{m} \\sum_{i=1}^m \\mathbb{1}_{h \\left( x_i \\right) \\neq y_i}.\n",
        "$$\n",
        "See also Chapter 2 of course textbook [UML]."
      ],
      "id": "870bb20f"
    },
    {
      "cell_type": "code",
      "source": [
        "def empirical_err(predictor, X, y):\n",
        "    \"\"\"\n",
        "    Returns the empirical error of the predictor on the given sample.\n",
        "\n",
        "    Args:\n",
        "        predictor-- an object with predictor.predict(x) method\n",
        "        X: array of input instances\n",
        "        y: array of true (correct) labels\n",
        "\n",
        "    Returns:\n",
        "        err: empirical error value\n",
        "    \"\"\"\n",
        "    assert len(X) == len(y)\n",
        "\n",
        "    #### TASK 3 CODE\n",
        "    pred_y = predictor.predict(X)\n",
        "    err = np.mean(y != pred_y)\n",
        "    #### TASK 3 CODE\n",
        "\n",
        "    return err"
      ],
      "metadata": {
        "id": "QC9Ud8Yzauu9"
      },
      "id": "QC9Ud8Yzauu9",
      "execution_count": null,
      "outputs": []
    },
    {
      "cell_type": "markdown",
      "source": [
        "The following simple class will be useful in holding the training and test sets in a single objects, and easily calculating and printing out the training and set errors of a predictor, something we will do frequently."
      ],
      "metadata": {
        "id": "1SD-pF2uPtb5"
      },
      "id": "1SD-pF2uPtb5"
    },
    {
      "cell_type": "code",
      "source": [
        "class TrainAndTestData:\n",
        "    def __init__(self, X_train, y_train, X_test, y_test):\n",
        "        self.X_train = X_train\n",
        "        self.y_train = y_train\n",
        "        self.X_test = X_test\n",
        "        self.y_test = y_test\n",
        "    def print_errors(self, clf):\n",
        "        # Get training error\n",
        "        train_err = empirical_err(clf, self.X_train, self.y_train)\n",
        "        print(f'Train error: {train_err*100:0.2f}%')\n",
        "        # Get test error\n",
        "        test_err = empirical_err(clf, self.X_test, self.y_test)\n",
        "        print(f'Test error: {test_err*100:0.2f}%')"
      ],
      "metadata": {
        "id": "Et3Zp9I8r8Xa"
      },
      "id": "Et3Zp9I8r8Xa",
      "execution_count": null,
      "outputs": []
    },
    {
      "cell_type": "code",
      "source": [
        "spirals = TrainAndTestData(Xsp_train, ysp_train, Xsp_test, ysp_test)"
      ],
      "metadata": {
        "id": "owizohTSsu-1"
      },
      "id": "owizohTSsu-1",
      "execution_count": null,
      "outputs": []
    },
    {
      "cell_type": "code",
      "source": [
        "spirals.print_errors(nn_clf)"
      ],
      "metadata": {
        "colab": {
          "base_uri": "https://localhost:8080/"
        },
        "id": "aOzG3I1Ms8T1",
        "outputId": "a8afe727-8013-47c4-c3c8-956a3677086e"
      },
      "id": "aOzG3I1Ms8T1",
      "execution_count": null,
      "outputs": [
        {
          "output_type": "stream",
          "name": "stdout",
          "text": [
            "Train error: 0.00%\n",
            "Test error: 19.50%\n"
          ]
        }
      ]
    },
    {
      "cell_type": "markdown",
      "metadata": {
        "id": "IXQvpevECTam"
      },
      "source": [
        "<span style=\"color: red\">\n",
        "<h4 style=\"font-weight: bold\">[Answer Questions]</h4>\n",
        "\n",
        "Sanity check: with a Nearest Neighbor predictor you should have got 0% training error. Why?<br>\n",
        "<i>Hint: Which points are used to predict for each training point?</i>\n",
        "\n",
        "<h4 style=\"font-weight: bold\">---------------------</h4>\n",
        "\n",
        "<span style=\"color: blue\">\n",
        "Answer: The nearest neighbor of any trainig data sample is itself.\n",
        "</span>\n",
        "\n",
        "<h4 style=\"font-weight: bold\">---------------------</h4>\n",
        "</span>"
      ],
      "id": "IXQvpevECTam"
    },
    {
      "cell_type": "markdown",
      "metadata": {
        "id": "898cc543"
      },
      "source": [
        "## Working with a Real-World Dataset\n",
        "\n",
        "Next, lets try loading some real data. We will use a SMS Spam dataset for a classification task. First, let's download the data into the `data` directory."
      ],
      "id": "898cc543"
    },
    {
      "cell_type": "code",
      "execution_count": null,
      "metadata": {
        "colab": {
          "base_uri": "https://localhost:8080/"
        },
        "id": "Ksm-bWsg_qqb",
        "outputId": "fd38b501-5301-4e28-9fa5-625932217675"
      },
      "outputs": [
        {
          "output_type": "stream",
          "name": "stdout",
          "text": [
            "mkdir: cannot create directory ‘/content/data’: File exists\n",
            "Downloading...\n",
            "From: https://drive.google.com/uc?id=16_ewUNot4JFwRFwBsp1VzqFTutriUrk5\n",
            "To: /content/data/SMSSpamCollection\n",
            "100% 390k/390k [00:00<00:00, 116MB/s]\n"
          ]
        }
      ],
      "source": [
        "!mkdir $PWD/data\n",
        "!gdown 16_ewUNot4JFwRFwBsp1VzqFTutriUrk5 -O $PWD/data/"
      ],
      "id": "Ksm-bWsg_qqb"
    },
    {
      "cell_type": "markdown",
      "metadata": {
        "id": "YpKNxqwj_uL_"
      },
      "source": [
        "In this dataset, the labels are binary (SMS is spam or ham, i.e. not spam), and the data is raw text. You need to implement a predictor to predict whether a message is spam or not given its text content. You may follow the steps below to build your spam predictor.\n",
        "- Read through some examples of raw data. **It's extremely important you look at your data before you try any perform any Machine Learning task&mdash;the data guides you to look for relevant features.**\n",
        "- Perform a train-test split before proceeding.\n",
        "- Define a simple predictor, and do similar experiments as what you did with the synthectic spiral data. There is no correct answer for this question, but you should at least implement a better-than-chance predictor.\n",
        "- Evaluate and optimize the performance of your spam predictor.\n",
        "- You are encouraged to experiment with different approaches, of course!"
      ],
      "id": "YpKNxqwj_uL_"
    },
    {
      "cell_type": "code",
      "execution_count": null,
      "metadata": {
        "id": "sTVmb96yuKbU"
      },
      "outputs": [],
      "source": [
        "# Load the data\n",
        "import os\n",
        "\n",
        "Xr, yr = utils.read_sms_spam_data(os.path.join(os.getcwd(), 'data/SMSSpamCollection'))"
      ],
      "id": "sTVmb96yuKbU"
    },
    {
      "cell_type": "markdown",
      "source": [
        "Before doing anything with the data, lets see what it looks like.  This is important whenever you start working on data."
      ],
      "metadata": {
        "id": "wa2q9EWsdbN6"
      },
      "id": "wa2q9EWsdbN6"
    },
    {
      "cell_type": "code",
      "source": [
        "for X, y in zip(Xr[:10], yr[:10]):\n",
        "    print(f'{y}\\t{X}')"
      ],
      "metadata": {
        "colab": {
          "base_uri": "https://localhost:8080/"
        },
        "id": "vatJnH-sdmJS",
        "outputId": "110fe8aa-b6fa-44da-d479-32a37246d640"
      },
      "id": "vatJnH-sdmJS",
      "execution_count": null,
      "outputs": [
        {
          "output_type": "stream",
          "name": "stdout",
          "text": [
            "-1\tAight will do thanks again for comin out\n",
            "-1\tNobut heard abt tat\n",
            "1\tPlease call our customer service representative on FREEPHONE 0808 145 4742 between 9am11pm as you have WON a guaranteed 1000 cash or 5000 prize\n",
            "-1\tYeshe is really greatbhaji told kallis best cricketer after sachin in worldvery tough to get out\n",
            "-1\tltgt  am I think Should say on syllabus\n",
            "-1\tUmma Did she say anything\n",
            "-1\tGive me a sec to think think about it\n",
            "1\tPanasonic  BluetoothHdset FREE Nokia FREE Motorola FREE  DoubleMins  DoubleTxt on Orange contract Call MobileUpd8 on 08000839402 or call 2optout\n",
            "-1\tI dont quite know what to do I still cant get hold of anyone I cud pick you up bout 730pm and we can see if theyre in the pub\n",
            "-1\tPoyyarikaturkolathupalayamunjalur posterode dis ltgt \n"
          ]
        }
      ]
    },
    {
      "cell_type": "markdown",
      "source": [
        "Next, we'll create our train and test data split.  Note that the way we implemented create_split, we should be getting the same split every time we call this function (as long as we use the default seed)."
      ],
      "metadata": {
        "id": "ShzAzI_fV2_E"
      },
      "id": "ShzAzI_fV2_E"
    },
    {
      "cell_type": "code",
      "execution_count": null,
      "metadata": {
        "colab": {
          "base_uri": "https://localhost:8080/"
        },
        "id": "b7e2a10e",
        "outputId": "44907567-6c85-4214-d644-dbf6990d8ca3"
      },
      "outputs": [
        {
          "output_type": "stream",
          "name": "stdout",
          "text": [
            "2998 2998 1286 1286\n"
          ]
        }
      ],
      "source": [
        "# Split the dataset\n",
        "\n",
        "# The * notation 'unpacks' the 4-tuple returned by create_split and passes it as four arguments to TrainAndTestData\n",
        "spamdata = TrainAndTestData(*create_split(Xr, yr, 0.7))\n",
        "\n",
        "print(len(spamdata.X_train), len(spamdata.y_train), len(spamdata.X_test), len(spamdata.y_test))\n"
      ],
      "id": "b7e2a10e"
    },
    {
      "cell_type": "markdown",
      "source": [
        "### Constant-false predictor\n",
        "\n",
        "Let's start with a constant-false predictor. That is, the predictor predict -1 (i.e. not spam) to any text message regardless of its content. This is not *Learning*, but any learning methods should surpass this baseline to be considered as meaningful improvements."
      ],
      "metadata": {
        "id": "Yx7U7we1_ytp"
      },
      "id": "Yx7U7we1_ytp"
    },
    {
      "cell_type": "code",
      "execution_count": null,
      "metadata": {
        "id": "8DlSfAAqwRXJ",
        "colab": {
          "base_uri": "https://localhost:8080/"
        },
        "outputId": "5e6a8a47-bd90-4307-f507-1810b6533cef"
      },
      "outputs": [
        {
          "output_type": "stream",
          "name": "stdout",
          "text": [
            "Train error: 12.37%\n",
            "Test error: 12.75%\n"
          ]
        }
      ],
      "source": [
        "class ConstantFalsePredictor:\n",
        "    '''\n",
        "    Use as:\n",
        "        ```\n",
        "        constant_clf = ConstantFalsePredictor()\n",
        "        y_test_predict = constant_clf.predict(X_test)\n",
        "        ```\n",
        "    '''\n",
        "    def __init__(self):\n",
        "        pass\n",
        "\n",
        "    def predict(self, X: np.ndarray) -> np.ndarray:\n",
        "        '''\n",
        "        Return an array if -1's to any input\n",
        "\n",
        "        Args:\n",
        "            X: data features\n",
        "\n",
        "        Returns:\n",
        "            y: labels, same number as the data points\n",
        "        '''\n",
        "\n",
        "        return np.full(X.shape[0], fill_value = -1)\n",
        "\n",
        "# You should at least beat this baseline, where we naively predict every SMS as non-spam.\n",
        "constant_clf = ConstantFalsePredictor()\n",
        "\n",
        "spamdata.print_errors(constant_clf)"
      ],
      "id": "8DlSfAAqwRXJ"
    },
    {
      "cell_type": "markdown",
      "source": [
        "### Word conjunction predictor\n",
        "\n",
        "Then let's define our own spam predictor! Below is an example word-conjunction predictor, where we define a list of ``spam_words``, and the ``WordConjPredictor`` will predict an SMS as spam as long as any word from the ``spam_words`` list is found in the SMS. No matter how you implement your spam predictor, it should at least get a lower test error than the constant-false predictor."
      ],
      "metadata": {
        "id": "brSSJWjnC1U5"
      },
      "id": "brSSJWjnC1U5"
    },
    {
      "cell_type": "code",
      "execution_count": null,
      "metadata": {
        "id": "4c7cQSd7zt88"
      },
      "outputs": [],
      "source": [
        "# This is an example of a simple predictor, which makes predictions based on whether any of the words in 'spam_words' can be found in the sentences\n",
        "# You can brainstorm different solutions!\n",
        "\n",
        "class WordConjPredictor:\n",
        "    '''\n",
        "    Use as:\n",
        "        ```\n",
        "        word_clf = WordConjPredictor()\n",
        "        word_clf.program_word(word_list)  OR  word_clf.fit(X_train,y_train,num_words,count_threshold)\n",
        "        y_test_predict = word_clf.predict(X_test)\n",
        "        ```\n",
        "    '''\n",
        "    def __init__(self):\n",
        "        self.spam_words = []\n",
        "\n",
        "    def program_words(self, spam_words: List = []):\n",
        "        '''Hard-code the words that indicate spamness'''\n",
        "        self.spam_words = spam_words\n",
        "\n",
        "    def predict(self, X: np.ndarray) -> np.ndarray:\n",
        "        '''\n",
        "        Predicts the labels for data X based whether any of the words in self.spam_words can be found in the sentences\n",
        "\n",
        "        Args:\n",
        "            X: data features\n",
        "\n",
        "        Returns:\n",
        "            y: labels, same number as the data points\n",
        "        '''\n",
        "        y = []\n",
        "        for x in X:\n",
        "            xsplit = x.lower().split()\n",
        "            is_spam = -1\n",
        "            for word in self.spam_words:\n",
        "                if word in xsplit:\n",
        "                    is_spam = 1\n",
        "\n",
        "            y.append(is_spam)\n",
        "\n",
        "        return np.array(y)\n",
        "\n",
        "    def fit(self, X_train, y_train, num_words=2, count_threshold=100):\n",
        "        '''\n",
        "        Trains the predictor by using the words that minimize the training error.\n",
        "\n",
        "        Args:\n",
        "            X_train, y_train: the training set, X_train is an array of strongs, y_train an array of labels\n",
        "            num_words: number of words in the conjunction (default 2)\n",
        "            count_threshold: only consider words that appear more than this many times in the training set (default 100)\n",
        "        '''\n",
        "        # We're not going to worry about upper/lower case, and only going to worry about which words appear in a message,\n",
        "        # that is treat each message as a set of words.  So we start by converting each message to lowercase, splitting it\n",
        "        # into words, and then creating a set object of these words.  The set object is implemented using a hash, making it\n",
        "        # very fast to check whether it includes an element or not (ie whether the message contains a word)\n",
        "        X_wordsets = [set(x.lower().split()) for x in X_train] # X_wordset[i] is the set of words in the message X_train[i], converted to lowercase\n",
        "\n",
        "        # Find all words that appear at least count_threshold times\n",
        "        from collections import Counter\n",
        "        c = Counter()\n",
        "        for x in X_wordsets:\n",
        "            c.update(x) # addes the words in x to the count\n",
        "        wordlist = [word for word, count in c.items() if count >= count_threshold]\n",
        "        print(\"debug: wordlist length=\", len(wordlist))\n",
        "\n",
        "        # for each word in our wordlist, crease a bolean vector indicating which training messages it is in\n",
        "        word_appearances = {word:np.array([word in x for x in X_wordsets]) for word in wordlist}\n",
        "        # for each word in wordlist, word_appearances[word] is a vector of dimensionality len(X_train), where word_appearances[word][i] is True if word appears in X_train[i]\n",
        "\n",
        "        # Now try all subsets for words with size num_words from wordlist\n",
        "        import itertools, functools\n",
        "        best_err = 1.0 # best error so far\n",
        "        best_words = [] # best wordlist so far\n",
        "        for words in itertools.combinations(wordlist, num_words):\n",
        "            # TASK 4 CODE\n",
        "            pred_y_bool = functools.reduce(np.logical_or, (word_appearances[w] for w in words))\n",
        "            pred_y = 2*pred_y_bool-1 # True and False are treated as 1 and 0.  We convert this to +1 and -1\n",
        "            err = np.mean(pred_y != y_train)\n",
        "            if err < best_err:\n",
        "                best_words = words\n",
        "                best_err = err\n",
        "            # TASK 4 CODE\n",
        "\n",
        "        # Set words with the lowest training error as self.spam_words,\n",
        "        # which will later be used in self.predict()\n",
        "        self.spam_words = best_words"
      ],
      "id": "4c7cQSd7zt88"
    },
    {
      "cell_type": "markdown",
      "source": [
        "First, use our own obeservations and intuitions to hard code (ie program) a list of ``spam_words`` and evaluate its empirical error on the training and test set."
      ],
      "metadata": {
        "id": "Sp_O31xXxVx9"
      },
      "id": "Sp_O31xXxVx9"
    },
    {
      "cell_type": "code",
      "source": [
        "spam_words = [\"call\", \"http\", \"urgent\"]\n",
        "prog_clf = WordConjPredictor()\n",
        "prog_clf.program_words(spam_words)\n",
        "\n",
        "spamdata.print_errors(prog_clf)"
      ],
      "metadata": {
        "colab": {
          "base_uri": "https://localhost:8080/"
        },
        "id": "n2M2HBfsxAZN",
        "outputId": "24e8a088-a1a1-4af7-ce32-5b852f5d2906"
      },
      "id": "n2M2HBfsxAZN",
      "execution_count": null,
      "outputs": [
        {
          "output_type": "stream",
          "name": "stdout",
          "text": [
            "Train error: 9.91%\n",
            "Test error: 10.42%\n"
          ]
        }
      ]
    },
    {
      "cell_type": "markdown",
      "source": [
        "### [Task 4]: Implement the ``fit`` method above\n",
        "\n",
        "Alternatively, we will learn a good WordConjPredictor using an ERM approach.  To do so, we will use the ``WordConjPredictor.fit()`` method. The method should do the following things:\n",
        "1. Find out the list of words with more than ``count_threshold`` occurrences in the training set.\n",
        "2. Iterate over all possible combinations of ``num_words`` words from the word list.\n",
        "3. Find the word combination with the lowest empirical error on the training set.\n",
        "\n",
        "To use this method, you need to finish the missing parts in the definition of the method above. A correct implementation shoud result in a training error of less than 8.25%."
      ],
      "metadata": {
        "id": "-zyQX2g6x_nR"
      },
      "id": "-zyQX2g6x_nR"
    },
    {
      "cell_type": "code",
      "source": [
        "erm_clf = WordConjPredictor()\n",
        "erm_clf.fit(spamdata.X_train, spamdata.y_train, count_threshold=30, num_words=2)"
      ],
      "metadata": {
        "colab": {
          "base_uri": "https://localhost:8080/"
        },
        "id": "ONooa-E-tkHk",
        "outputId": "8c590faf-aadd-402b-e781-d3ae7774e25d"
      },
      "id": "ONooa-E-tkHk",
      "execution_count": null,
      "outputs": [
        {
          "output_type": "stream",
          "name": "stdout",
          "text": [
            "debug: wordlist length= 216\n"
          ]
        }
      ]
    },
    {
      "cell_type": "code",
      "source": [
        "spamdata.print_errors(erm_clf)"
      ],
      "metadata": {
        "id": "6jD_qhaQk1J5",
        "colab": {
          "base_uri": "https://localhost:8080/"
        },
        "outputId": "fc52c64e-b727-4476-d519-156a9d23a7db"
      },
      "id": "6jD_qhaQk1J5",
      "execution_count": null,
      "outputs": [
        {
          "output_type": "stream",
          "name": "stdout",
          "text": [
            "Train error: 8.14%\n",
            "Test error: 8.63%\n"
          ]
        }
      ]
    },
    {
      "cell_type": "markdown",
      "source": [
        "With a good implementation of `WordConjPred.fit()` you should be able to try out also higher `num_words` (3 or maybe 4) and lower `count_thresholds`."
      ],
      "metadata": {
        "id": "bIhiIGFQY2b4"
      },
      "id": "bIhiIGFQY2b4"
    },
    {
      "cell_type": "markdown",
      "source": [
        "### [Task 5 (Optional)] Find better Conjunctions-of-Words\n",
        "\n",
        "Try to do a better job at minimizing the training error over all possible word conjunctions.  That is, find the `spam_words` that minimizes the **training error** of `WordConjPredictor` on the data split created. You can do this either by using a faster implementation of exhustive search (e.g. changing just a single word at a time), or a different search heuristic (e.g. pruning the search, trying greedy approaches, or relaxations) or a comninotrial search engine (eg Integer Program and CSP solvers), or perhaps by just using more hardwear or running for longer...\n",
        "\n",
        "Clarification: you can modify the `fit()` method, but not the `predict()` method.  You must still predict based only on a conjunction of case-insesitive word appearances.\n",
        "\n",
        "Please clearly specify your idea and approach and comment your code to ensure the readability of your program!"
      ],
      "metadata": {
        "id": "E4DT9SvHy03-"
      },
      "id": "E4DT9SvHy03-"
    },
    {
      "cell_type": "code",
      "source": [
        "# TASK 5 CODE\n",
        "# TASK 5 CODE"
      ],
      "metadata": {
        "id": "dxkfygW-zMde"
      },
      "id": "dxkfygW-zMde",
      "execution_count": null,
      "outputs": []
    },
    {
      "cell_type": "markdown",
      "source": [
        "Submit the `spam_words` with the lowest training error to the [challange page](https://forms.gle/smfesG8j7EfJZNz69)."
      ],
      "metadata": {
        "id": "NDgHbeX_axKz"
      },
      "id": "NDgHbeX_axKz"
    },
    {
      "cell_type": "markdown",
      "source": [
        "### Types of error\n",
        "\n",
        "When we evaluate the constant-zero predictor, we notice that its error rate is lower than 15%. This implies that the dataset is highly imbalanced -- there is a large gap between the numbers of 1 and -1 labels. For such an imbalanced dataset, aside from empirical error rate, we often look into the **False Positive Rate** and the **False Negative Rate** defined as below:\n",
        "$$\n",
        "FPR_S (h) = \\frac{\\left| \\left\\{ i \\in S_{-1} : h \\left( x_i \\right) \\neq y_i \\right\\} \\right|}{| S_{-1} |}, \\text{with } S_{-1} = \\{i:y_i=-1\\}\n",
        "$$\n",
        "$$\n",
        "FNR_S (h) = \\frac{\\left| \\left\\{ i \\in S_{1} : h \\left( x_i \\right) \\neq y_i \\right\\} \\right|}{| S_{1} |}, \\text{with } S_{1} = \\{i:y_i=1\\}\n",
        "$$"
      ],
      "metadata": {
        "id": "U5WBFbQnGKC-"
      },
      "id": "U5WBFbQnGKC-"
    },
    {
      "cell_type": "code",
      "execution_count": null,
      "metadata": {
        "id": "qaafLJZ9wRlN"
      },
      "outputs": [],
      "source": [
        "def empirical_false_pos_neg(predictor, X, y):\n",
        "    '''\n",
        "    Returns the false-positive and false-negative rates of a predictor.\n",
        "\n",
        "    Args:\n",
        "        predictor: an object with predictor.predict(x) method\n",
        "        X: array of input instances\n",
        "        y: array of true (correct) labels\n",
        "\n",
        "    Returns:\n",
        "        false_pos: false-positive rate\n",
        "        false_neg: false-negative rate\n",
        "    '''\n",
        "    assert len(X) == len(y)\n",
        "    # variable err should be set to the empirical error\n",
        "\n",
        "    pred_y = predictor.predict(X)\n",
        "    false_pos = np.logical_and(pred_y == 1, y == -1).sum() / (y == -1).sum()\n",
        "    false_neg = np.logical_and(pred_y == -1, y == 1).sum() / (y == 1).sum()\n",
        "\n",
        "    print(f\"False-positive rate {false_pos*100:0.2f}%\")\n",
        "    print(f\"False-negative rate {false_neg*100:0.2f}%\")"
      ],
      "id": "qaafLJZ9wRlN"
    },
    {
      "cell_type": "code",
      "source": [
        "print(\"Constant-false predictor\")\n",
        "empirical_false_pos_neg(constant_clf, spamdata.X_test, spamdata.y_test)\n",
        "\n",
        "print(\"ERM word conjunction predictor\")\n",
        "empirical_false_pos_neg(erm_clf, spamdata.X_test, spamdata.y_test)"
      ],
      "metadata": {
        "id": "a1Dqp0CzMI75",
        "colab": {
          "base_uri": "https://localhost:8080/"
        },
        "outputId": "0cae1ea8-6d42-475a-e796-843f275e2cff"
      },
      "id": "a1Dqp0CzMI75",
      "execution_count": null,
      "outputs": [
        {
          "output_type": "stream",
          "name": "stdout",
          "text": [
            "Constant-false predictor\n",
            "False-positive rate 0.00%\n",
            "False-negative rate 100.00%\n",
            "ERM word conjunction predictor\n",
            "False-positive rate 4.19%\n",
            "False-negative rate 39.02%\n"
          ]
        }
      ]
    },
    {
      "cell_type": "markdown",
      "source": [
        "<span style=\"color: red\">\n",
        "<h4 style=\"font-weight: bold\">[Answer Questions]</h4>\n",
        "\n",
        "Do you see any differences between the performances of the two different spam predictors, when evaluated with the empherical error rate, and the false-positive/negative rates? How would you explain the meaning of the false-positive/negative rates?\n",
        "\n",
        "<h4 style=\"font-weight: bold\">---------------------</h4>\n",
        "\n",
        "<span style=\"color: blue\">\n",
        "Answer:\n",
        "\n",
        "Some points that could be mentioned:\n",
        "- The ERM word conjunction predictor has a slightly higher false-positive rate but a much lower false-negative rate that the constant-false predictor, resulting in its lower empirical error.\n",
        "- False-positive: within the non-spam (negative) samples, how many of them are classified as spam (positive)?\n",
        "- False-negative: within the spam (positive) samples, how many of them are classified as non-spam (negative)?\n",
        "- A good classifier strikes a balance between false-positive and false-negative rates.\n",
        "\n",
        "</span>\n",
        "\n",
        "<h4 style=\"font-weight: bold\">---------------------</h4>\n",
        "</span>"
      ],
      "metadata": {
        "id": "RBPtLNkONpoZ"
      },
      "id": "RBPtLNkONpoZ"
    },
    {
      "cell_type": "markdown",
      "source": [
        "<span style=\"color: red\">\n",
        "<h4 style=\"font-weight: bold\">[Answer Questions]</h4>\n",
        "\n",
        "how would you use the false-positive/negative rates to help you develop your spam predictor?\n",
        "\n",
        "<h4 style=\"font-weight: bold\">---------------------</h4>\n",
        "\n",
        "<span style=\"color: blue\">\n",
        "Answer: They are useful when analyzing whether your predictor is too aggresive or conservative. For example, when the false-positive rate is too high, you may want to remove some of the `spam_words`.\n",
        "</span>\n",
        "\n",
        "<h4 style=\"font-weight: bold\">---------------------</h4>\n",
        "</span>"
      ],
      "metadata": {
        "id": "QlRAX4aVOUoR"
      },
      "id": "QlRAX4aVOUoR"
    },
    {
      "cell_type": "markdown",
      "source": [
        "We might also want to try out a Nearest Neighbot approach to SMS spam prediction.  This is tricky, since it requires choosing and implementing an appropriate distance function!  See Task 6 below."
      ],
      "metadata": {
        "id": "vFpgLjkNbXUU"
      },
      "id": "vFpgLjkNbXUU"
    },
    {
      "cell_type": "markdown",
      "metadata": {
        "id": "76QVhInL3xC4"
      },
      "source": [
        "### Looking at the data\n",
        "\n",
        "You might also want to look at specific mistakes to understand your predictor better, and think of better models and learning rules.\n",
        "\n"
      ],
      "id": "76QVhInL3xC4"
    },
    {
      "cell_type": "code",
      "execution_count": null,
      "metadata": {
        "id": "PlXxKmww0u6g",
        "colab": {
          "base_uri": "https://localhost:8080/"
        },
        "outputId": "193e4d2a-c7a5-4fec-bb3a-85eb55ca463c"
      },
      "outputs": [
        {
          "output_type": "stream",
          "name": "stdout",
          "text": [
            "True-positive spam prediction:\n",
            "Shop till u Drop IS IT YOU either 10K 5K 500 Cash or 100 Travel voucher Call now 09064011000 NTT PO Box CR01327BT fixedline Cost 150ppm mobile vary\n",
            "YOU ARE CHOSEN TO RECEIVE A 350 AWARD Pls call claim number 09066364311 to collect your award which you are selected to receive as a valued mobile customer\n",
            "UR GOING 2 BAHAMAS CallFREEFONE 08081560665 and speak to a live operator to claim either Bahamas cruise of2000 CASH 18only To opt out txt X to 07786200117\n",
            "Urgent Urgent We have 800 FREE flights to Europe to give away call B4 10th Sept  take a friend 4 FREE Call now to claim on 09050000555 BA128NNFWFLY150ppm\n",
            "PRIVATE Your 2003 Account Statement for 07973788240 shows 800 unredeemed S I M points Call 08715203649 Identifier Code 40533 Expires 311004\n",
            "\n",
            "False-positive spam prediction:\n",
            "Was doing my test earlier I appreciate you Will call you tomorrow\n",
            "Hi Dear Call me its urgnt I dont know whats your problem You dont want to work or if you have any other problem at least tell me Wating for your reply\n",
            "I am lateso call you tomorrow morningtake care sweet dreamsu and meummifyingbye\n",
            "I am in tirupur  call you da\n",
            "Pls call me da What happen\n",
            "\n",
            "True-negative spam prediction:\n",
            "Evry Emotion dsnt hav WordsEvry Wish dsnt hav Prayrs If u SmileD World is wit uOthrwise even d Drop of Tear dsnt lik 2 Stay wit uSo b happy Good morning keep smiling\n",
            "No problem Talk to you later\n",
            "You said not now No problem When you can Let me know\n",
            "Then ur sis how\n",
            "Still work going onit is very small house\n",
            "\n",
            "False-negative spam prediction:\n",
            "Had your contract mobile 11 Mnths Latest Motorola Nokia etc all FREE Double Mins  Text on Orange tariffs TEXT YES for callback no to remove from records\n",
            "FREERingtone Reply REAL or POLY eg REAL1 1 PushButton 2 DontCha 3 BabyGoodbye 4 GoldDigger 5 WeBeBurnin 1st tone FREE and 6 more when u join for 3wk\n",
            "Show ur colours Euro 2004 241 Offer Get an England Flag  3Lions tone on ur phone Click on the following service message for info\n",
            "it to 80488 Your 500 free text messages are valid until 31 December 2005\n",
            "IMPORTANT INFORMATION 4 ORANGE USER 0796XXXXXX TODAY IS UR LUCKY DAY2 FIND OUT WHY LOG ONTO httpwwwurawinnercom THERES A FANTASTIC PRIZEAWAITING YOU\n"
          ]
        }
      ],
      "source": [
        "true_positive, false_positive, true_negative, false_negative = [], [], [], []\n",
        "y_test_predict = erm_clf.predict(spamdata.X_test)\n",
        "for X, y_pred, y in zip(spamdata.X_test, y_test_predict, spamdata.y_test):\n",
        "    if y_pred == 1 and y == 1 and len(true_positive) < 5:\n",
        "        true_positive.append(X)\n",
        "    elif y_pred == 1 and y == -1 and len(false_positive) < 5:\n",
        "        false_positive.append(X)\n",
        "    elif y_pred == -1 and y == 1 and len(false_negative) < 5:\n",
        "        false_negative.append(X)\n",
        "    elif y_pred == -1 and y == -1 and len(true_negative) < 5:\n",
        "        true_negative.append(X)\n",
        "\n",
        "print(\"True-positive spam prediction:\")\n",
        "print(\"\\n\".join(true_positive))\n",
        "print(\"\\nFalse-positive spam prediction:\")\n",
        "print(\"\\n\".join(false_positive))\n",
        "print(\"\\nTrue-negative spam prediction:\")\n",
        "print(\"\\n\".join(true_negative))\n",
        "print(\"\\nFalse-negative spam prediction:\")\n",
        "print(\"\\n\".join(false_negative))\n"
      ],
      "id": "PlXxKmww0u6g"
    },
    {
      "cell_type": "markdown",
      "metadata": {
        "id": "26c0bb63"
      },
      "source": [
        "### [Task 6 (Challenge-Optional)] Apply Nearest Neighbor to Text Data\n",
        "\n",
        "In this **challenge-optional** task, you will modify the Nearest Neighbor predictor implementation for the SMS spam prediction data. To achieve this, you will need to define **the distance between two text sequences**, though it might be a little tricky. Here are some possible directions you can try:\n",
        "- Compute the [Edit distance](https://en.wikipedia.org/wiki/Levenshtein_distance) between two sequences\n",
        "- Vectorize the sequences and than compute the distance between the vector representations of individual text sequences. You may want to checkout [TF-IDF vectorization](https://scikit-learn.org/stable/modules/generated/sklearn.feature_extraction.text.TfidfVectorizer.html).\n",
        "- Define a set of **keywords**, and than compared the occurances of keywords in each text sequence. Taking a look of the [bag-of-word model](https://en.wikipedia.org/wiki/Bag-of-words_model) may give you some inspirations.\n",
        "\n",
        "You are encouraged to explore more possibilities. Don't limit yourself to the given solutions!"
      ],
      "id": "26c0bb63"
    },
    {
      "cell_type": "code",
      "execution_count": null,
      "metadata": {
        "id": "56190bc5"
      },
      "outputs": [],
      "source": [
        "#### TASK 6 CODE\n",
        "#### TASK 6 CODE"
      ],
      "id": "56190bc5"
    }
  ],
  "metadata": {
    "colab": {
      "provenance": []
    },
    "kernelspec": {
      "display_name": "Python 3 (ipykernel)",
      "language": "python",
      "name": "python3"
    },
    "language_info": {
      "codemirror_mode": {
        "name": "ipython",
        "version": 3
      },
      "file_extension": ".py",
      "mimetype": "text/x-python",
      "name": "python",
      "nbconvert_exporter": "python",
      "pygments_lexer": "ipython3",
      "version": "3.9.5"
    }
  },
  "nbformat": 4,
  "nbformat_minor": 5
}